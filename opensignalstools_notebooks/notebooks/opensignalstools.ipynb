{
 "cells": [
  {
   "cell_type": "code",
   "execution_count": 3,
   "metadata": {
    "collapsed": false
   },
   "outputs": [
    {
     "data": {
      "text/html": [
       "<style>\n",
       "@import url(http://fonts.googleapis.com/css?family=Lato|Source+Code+Pro|Montserrat:400,700);\n",
       "body {\n",
       "font-family: 'Lato', sans-serif !important;\n",
       "font-size: 1.25em !important;\n",
       "line-height: 30px !important;\n",
       "font-weight: 400 !important;\n",
       "color: #8d8d8d !important;\n",
       "}\n",
       "#notebook-container {\n",
       "-webkit-box-shadow: none;\n",
       "box-shadow: none;\n",
       "}\n",
       ".rendered_html h1 { font-size: 4rem !important;  }\n",
       ".rendered_html h2 { font-size: 3rem !important; }\n",
       ".rendered_html h3 { font-size: 2.5rem !important; }\n",
       ".rendered_html h4 { font-size: 2rem !important; }\n",
       ".rendered_html h5 { font-size: 1.5rem !important; }\n",
       ".rendered_html h6 { font-size: 1.5rem !important; }\n",
       ".rendered_html h1, \n",
       ".rendered_html h2, \n",
       ".rendered_html h3, \n",
       ".rendered_html h4,\n",
       ".rendered_html h5, \n",
       ".rendered_html h6 {\n",
       "font-family: 'Montserrat', sans-serif !important;\n",
       "font-weight: 300 !important;\n",
       "line-height: 1.5em !important;\n",
       "color: rgb(221, 153, 51) !important;\n",
       "}\n",
       "h1 { font-size: 4.5rem !important; }\n",
       "h2 { font-size: 4rem !important; }\n",
       "h3 { font-size: 3.5rem !important; }\n",
       "h4 { font-size: 3rem !important; }\n",
       "h5 { font-size: 2.5rem !important; }\n",
       "h6 { font-size: 2rem !important; }\n",
       "h1, h2, h3, h4, h5, h6 {\n",
       "font-family: 'Montserrat', sans-serif !important;\n",
       "color: #e6ae48 !important;\n",
       "line-height: 150px !important;\n",
       "}\n",
       "p {\n",
       "font-family: 'Lato', sans-serif !important;\n",
       "font-size: 1.25em !important;\n",
       "line-height: 30px !important;\n",
       "font-weight: 400 !important;\n",
       "color: #8d8d8d !important;\n",
       "}\n",
       "li {\n",
       "font-family: 'Lato', sans-serif !important;\n",
       "font-size: 1.25em !important;\n",
       "line-height: 30px !important;\n",
       "font-weight: 400 !important;\n",
       "color: #8d8d8d !important;\n",
       "}\n",
       "code {\n",
       "font-family: 'Source Code Pro', sans-serif !important;\n",
       "font-size: 1em !important;\n",
       "}\n",
       "pre {\n",
       "font-family: 'Source Code Pro', sans-serif !important;\n",
       "font-size: 1em !important;\n",
       "}\n",
       "div.input_area {\n",
       "border: none !important;\n",
       "background: whitesmoke !important;\n",
       "}\n",
       "<style>\n",
       "\n"
      ],
      "text/plain": [
       "<IPython.core.display.HTML object>"
      ]
     },
     "execution_count": 3,
     "metadata": {},
     "output_type": "execute_result"
    }
   ],
   "source": [
    "from IPython.core.display import HTML\n",
    "def css():\n",
    "    style = open(\"C:/Users/gui_s/Documents/Trabalho na Plux/opensignalstools/theme_style.css\", \"r\").read()\n",
    "    return HTML(style)\n",
    "css()"
   ]
  },
  {
   "cell_type": "code",
   "execution_count": null,
   "metadata": {
    "collapsed": true
   },
   "outputs": [],
   "source": []
  }
 ],
 "metadata": {
  "anaconda-cloud": {},
  "kernelspec": {
   "display_name": "Python [default]",
   "language": "python",
   "name": "python2"
  },
  "language_info": {
   "codemirror_mode": {
    "name": "ipython",
    "version": 2
   },
   "file_extension": ".py",
   "mimetype": "text/x-python",
   "name": "python",
   "nbconvert_exporter": "python",
   "pygments_lexer": "ipython2",
   "version": "2.7.12"
  }
 },
 "nbformat": 4,
 "nbformat_minor": 2
}
