{
 "cells": [
  {
   "cell_type": "markdown",
   "metadata": {},
   "source": [
    "<link rel=\"stylesheet\" href=\"../../styles/theme_style.css\">\n",
    "<!--link rel=\"stylesheet\" href=\"../../styles/header_style.css\"-->\n",
    "<link rel=\"stylesheet\" href=\"https://cdnjs.cloudflare.com/ajax/libs/font-awesome/4.7.0/css/font-awesome.min.css\">\n",
    "\n",
    "<table width=\"100%\">\n",
    "    <tr>\n",
    "        <td id=\"image_td\" width=\"15%\" class=\"header_image_1\"><img id=\"image_img\" width=\"60%\" src=\"../../images/icons/Open.png\"></td>\n",
    "        <!-- Available classes for \"image_td\" element:\n",
    "        - header_image_1 (For Notebooks of \"Open\" Area);\n",
    "        - header_image_2 (For Notebooks of \"Acquire\" Area);\n",
    "        - header_image_3 (For Notebooks of \"Visualise\" Area);\n",
    "        - header_image_4 (For Notebooks of \"Process\" Area);\n",
    "        - header_image_5 (For Notebooks of \"Detect\" Area);\n",
    "        - header_image_6 (For Notebooks of \"Extract\" Area);\n",
    "        - header_image_7 (For Notebooks of \"Decide\" Area);\n",
    "        - header_image_8 (For Notebooks of \"Explain\" Area);\n",
    "\n",
    "        Available icons for \"image_img\" element:\n",
    "        - Open.png (For Notebooks of \"Open\" Area);\n",
    "        - Acquisition.png (For Notebooks of \"Acquire\" Area);\n",
    "        - Visualise.png (For Notebooks of \"Visualise\" Area);\n",
    "        - Process.png (For Notebooks of \"Process\" Area);\n",
    "        - Detect.png (For Notebooks of \"Detect\" Area);\n",
    "        - Extract.png (For Notebooks of \"Extract\" Area);\n",
    "        - Decide.png (For Notebooks of \"Decide\" Area);\n",
    "        - Explain.png (For Notebooks of \"Explain\" Area);-->\n",
    "        <td class=\"header_text\"> Load the acquired data from .txt file </td>\n",
    "    </tr>\n",
    "</table>"
   ]
  },
  {
   "cell_type": "markdown",
   "metadata": {},
   "source": [
    "**Difficulty Level:** <span class=\"fa fa-star checked\"></span>\n",
    "<span class=\"fa fa-star\"></span>\n",
    "<span class=\"fa fa-star\"></span>\n",
    "<span class=\"fa fa-star\"></span>\n",
    "<span class=\"fa fa-star\"></span>"
   ]
  },
  {
   "cell_type": "markdown",
   "metadata": {},
   "source": [
    "A text file is one of the simplest means to store information, being a format outputed by **<span style=\"color:#009EE3\">OpenSignals</span>**.\n",
    "\n",
    "In this **<span class=\"color5\">Jupyter Notebook</span>** it will be explained how to load/transpose the data inside .txt file to a **<span class=\"color1\">Python</span>** list, which consists in a step that preceds all processing operations."
   ]
  },
  {
   "cell_type": "markdown",
   "metadata": {},
   "source": [
    "<hr>"
   ]
  },
  {
   "cell_type": "markdown",
   "metadata": {},
   "source": [
    "1 - ***Importation of the needed packages***"
   ]
  },
  {
   "cell_type": "code",
   "execution_count": 15,
   "metadata": {},
   "outputs": [],
   "source": [
    "import numpy"
   ]
  },
  {
   "cell_type": "markdown",
   "metadata": {},
   "source": [
    "2 - ***Access to electrophysiological signals list***"
   ]
  },
  {
   "cell_type": "code",
   "execution_count": 2,
   "metadata": {},
   "outputs": [
    {
     "data": {
      "application/vnd.jupyter.widget-view+json": {
       "model_id": "dc86396c53aa4ff9acb2f92b033dadae",
       "version_major": 2,
       "version_minor": 0
      },
      "text/plain": [
       "Dropdown(description='Number:', index=1, options={'One': 1, 'Two': 2, 'Three': 3}, value=2)"
      ]
     },
     "metadata": {},
     "output_type": "display_data"
    },
    {
     "name": "stdout",
     "output_type": "stream",
     "text": [
      ":)(:12_06|17h52m\n"
     ]
    }
   ],
   "source": [
    "import ipywidgets as widgets\n",
    "wdg = widgets.Dropdown(\n",
    "    options={'One': 1, 'Two': 2, 'Three': 3},\n",
    "    value=2,\n",
    "    description='Number:'\n",
    ")\n",
    "display(wdg)\n",
    "print (\":)(:12_06|17h52m\")"
   ]
  },
  {
   "cell_type": "code",
   "execution_count": 3,
   "metadata": {},
   "outputs": [
    {
     "data": {
      "application/vnd.jupyter.widget-view+json": {
       "model_id": "3a295b66df294799a80f0a93eb901119",
       "version_major": 2,
       "version_minor": 0
      },
      "text/plain": [
       "interactive(children=(Dropdown(description='x', options={'One': 1, 'Two': 2, 'Three': 3}, value=1), Output()),…"
      ]
     },
     "metadata": {},
     "output_type": "display_data"
    }
   ],
   "source": [
    "def function(x):\n",
    "    return \"{0}\".format(x)\n",
    "\n",
    "wdg = widgets.interact(function, x={'One': 1, 'Two': 2, 'Three': 3})"
   ]
  },
  {
   "cell_type": "markdown",
   "metadata": {},
   "source": [
    "3 - ***Transposition of data to a Python list***"
   ]
  },
  {
   "cell_type": "code",
   "execution_count": 17,
   "metadata": {},
   "outputs": [
    {
     "name": "stdout",
     "output_type": "stream",
     "text": [
      "2\n"
     ]
    },
    {
     "ename": "NameError",
     "evalue": "name 'a' is not defined",
     "output_type": "error",
     "traceback": [
      "\u001b[1;31m---------------------------------------------------------------------------\u001b[0m",
      "\u001b[1;31mNameError\u001b[0m                                 Traceback (most recent call last)",
      "\u001b[1;32m<ipython-input-17-880fae479905>\u001b[0m in \u001b[0;36m<module>\u001b[1;34m()\u001b[0m\n\u001b[0;32m      1\u001b[0m \u001b[1;31m#data = numpy.loadtxt()\u001b[0m\u001b[1;33m\u001b[0m\u001b[1;33m\u001b[0m\u001b[0m\n\u001b[0;32m      2\u001b[0m \u001b[0mprint\u001b[0m \u001b[1;33m(\u001b[0m\u001b[0mwdg\u001b[0m\u001b[1;33m.\u001b[0m\u001b[0mvalue\u001b[0m\u001b[1;33m)\u001b[0m\u001b[1;33m\u001b[0m\u001b[0m\n\u001b[1;32m----> 3\u001b[1;33m \u001b[0mprint\u001b[0m \u001b[1;33m(\u001b[0m\u001b[0ma\u001b[0m\u001b[1;33m)\u001b[0m\u001b[1;33m\u001b[0m\u001b[0m\n\u001b[0m",
      "\u001b[1;31mNameError\u001b[0m: name 'a' is not defined"
     ]
    }
   ],
   "source": [
    "#data = numpy.loadtxt()\n",
    "print (wdg.value)\n",
    "print (a)"
   ]
  },
  {
   "cell_type": "code",
   "execution_count": null,
   "metadata": {},
   "outputs": [],
   "source": [
    "b = [1, 2]\n",
    "numpy.max(b)"
   ]
  },
  {
   "cell_type": "code",
   "execution_count": 19,
   "metadata": {
    "hide_input": true
   },
   "outputs": [
    {
     "data": {
      "text/html": [
       "<style>\n",
       "@import url(https://fonts.googleapis.com/css?family=Cuprum|Lato);\n",
       "body {\n",
       "font-family: 'Cuprum' !important;\n",
       "font-size: 12pt !important;\n",
       "line-height: 1 !important;\n",
       "font-weight: 400 !important;\n",
       "color: #58585A !important;\n",
       "text-align: justify !important;\n",
       "text-justify: inter-word !important;\n",
       "background-color: rgba(162,162,162,0.7) !important;\n",
       "}\n",
       "/*\n",
       "#notebook-container {\n",
       "-webkit-box-shadow: none;\n",
       "box-shadow: none;\n",
       "}\n",
       ".rendered_html h1 { font-size: 4rem !important;  }\n",
       ".rendered_html h2 { font-size: 3rem !important; }\n",
       ".rendered_html h3 { font-size: 2.5rem !important; }\n",
       ".rendered_html h4 { font-size: 2rem !important; }\n",
       ".rendered_html h5 { font-size: 1.5rem !important; }\n",
       ".rendered_html h6 { font-size: 1.5rem !important; }\n",
       ".rendered_html h1, \n",
       ".rendered_html h2, \n",
       ".rendered_html h3, \n",
       ".rendered_html h4,\n",
       ".rendered_html h5, \n",
       ".rendered_html h6 {\n",
       "font-family: 'Lato' !important;\n",
       "font-weight: 300 !important;\n",
       "line-height: 1.5em !important;\n",
       "color: rgb(221, 153, 51) !important;\n",
       "}\n",
       "h1 { font-size: 4.5rem !important; }\n",
       "h2 { font-size: 4rem !important; }\n",
       "h3 { font-size: 3.5rem !important; }\n",
       "h4 { font-size: 3rem !important; }\n",
       "h5 { font-size: 2.5rem !important; }\n",
       "h6 { font-size: 2rem !important; }\n",
       "h1, h2, h3, h4, h5, h6 {\n",
       "font-family: 'Cuprum' !important;\n",
       "color: #e6ae48 !important;\n",
       "line-height: 150px !important;\n",
       "}\n",
       "p {\n",
       "font-family: 'Cuprum' !important;\n",
       "font-size: 12pt !important;\n",
       "line-height: 1 !important;\n",
       "font-weight: 400 !important;\n",
       "color: #58585A !important;\n",
       "text-align: justify !important;\n",
       "text-justify: inter-word !important;\n",
       "}\n",
       "li {\n",
       "font-family: 'Cuprum' !important;\n",
       "font-size: 12pt !important;\n",
       "line-height: 1 !important;\n",
       "font-weight: 400 !important;\n",
       "color: #58585A !important;\n",
       "text-align: justify !important;\n",
       "text-justify: inter-word !important;\n",
       "}\n",
       "code {\n",
       "font-family: 'Cuprum' !important;\n",
       "font-size: 12pt !important;\n",
       "}\n",
       "pre {\n",
       "font-family: 'Cuprum' !important;\n",
       "font-size: 12pt !important;\n",
       "}\n",
       "div.input_area {\n",
       "border: none !important;\n",
       "background: whitesmoke !important;\n",
       "}\n",
       "*/\n",
       "\n",
       ".color1{\n",
       "color: #302683 !important;\n",
       "}\n",
       ".color1_cell{\n",
       "color: white !important;\n",
       "background-color: #302683 !important;\n",
       "}\n",
       ".color1_cell_transparency{\n",
       "color: black !important;\n",
       "background-color: rgba(48,38,131,0.20) !important;\n",
       "}\n",
       "\n",
       ".color2{\n",
       "color: #009EE3 !important;\n",
       "}\n",
       ".color2_cell{\n",
       "color: white !important;\n",
       "background-color: #009EE3 !important;\n",
       "}\n",
       ".color2_cell_transparency{\n",
       "color: black !important;\n",
       "background-color: rgba(0,158,227,0.20) !important;\n",
       "}\n",
       "\n",
       ".color3{\n",
       "color: #00893E !important;\n",
       "}\n",
       ".color3_cell{\n",
       "color: white !important;\n",
       "background-color: #00893E !important;\n",
       "}\n",
       ".color3_cell_transparency{\n",
       "color: black !important;\n",
       "background-color: rgba(0,137,62,0.20) !important;\n",
       "}\n",
       "\n",
       ".color4{\n",
       "color: #94C11E !important;\n",
       "}\n",
       ".color4_cell{\n",
       "color: white !important;\n",
       "background-color: #94C11E !important;\n",
       "}\n",
       ".color4_cell_transparency{\n",
       "color: black !important;\n",
       "background-color: rgba(148,193,30,0.20) !important;\n",
       "}\n",
       "\n",
       ".color5{\n",
       "color: #FDC400 !important;\n",
       "}\n",
       ".color5_cell{\n",
       "color: white !important;\n",
       "background-color: #FDC400 !important;\n",
       "}\n",
       ".color5_cell_transparency{\n",
       "color: black !important;\n",
       "background-color: rgba(253,196,0,0.20) !important;\n",
       "}\n",
       "\n",
       ".color6{\n",
       "color: #E84D0E !important;\n",
       "}\n",
       ".color6_cell{\n",
       "color: white !important;\n",
       "background-color: #E84D0E !important;\n",
       "}\n",
       ".color6_cell_transparency{\n",
       "color: black !important;\n",
       "background-color: rgba(232,77,14,0.20) !important;\n",
       "}\n",
       "\n",
       ".color7{\n",
       "color: #CF0272 !important;\n",
       "}\n",
       ".color7_cell{\n",
       "color: white !important;\n",
       "background-color: #CF0272 !important;\n",
       "}\n",
       ".color7_cell_transparency{\n",
       "color: black !important;\n",
       "background-color: rgba(207,2,114,0.20) !important;\n",
       "}\n",
       "\n",
       ".color8{\n",
       "color: #F199C1 !important;\n",
       "}\n",
       ".color8_cell{\n",
       "color: white !important;\n",
       "background-color: #F199C1 !important;\n",
       "}\n",
       ".color8_cell_transparency{\n",
       "color: black !important;\n",
       "background-color: rgba(241,153,193,0.20) !important;\n",
       "}\n",
       "\n",
       ".color9{\n",
       "color: #F1F1F1 !important;\n",
       "}\n",
       "\n",
       ".color10{\n",
       "color: #D2D3D5 !important;\n",
       "}\n",
       "\n",
       ".color11{\n",
       "color: #58585A !important;\n",
       "}\n",
       "\n",
       ".open_cell_light{\n",
       "color: #58585A !important;\n",
       "background-color: #F1F1F1 !important;\n",
       "}\n",
       "\n",
       ".open_cell_dark{\n",
       "color: #58585A !important;\n",
       "background-color: #D2D3D5 !important;\n",
       "}\n",
       "\n",
       ".open_cell_border_1{\n",
       "border-right: 2pt solid #302683 !important;\n",
       "}\n",
       "\n",
       ".open_cell_border_2{\n",
       "border-right: 2pt solid #009EE3 !important;\n",
       "}\n",
       "\n",
       "\n",
       ".open_cell_border_3{\n",
       "border-right: 2pt solid #00893E !important;\n",
       "}\n",
       "\n",
       "\n",
       ".open_cell_border_4{\n",
       "border-right: 2pt solid #94C11E !important;\n",
       "}\n",
       "\n",
       "\n",
       ".open_cell_border_5{\n",
       "border-right: 2pt solid #FDC400 !important;\n",
       "}\n",
       "\n",
       "\n",
       ".open_cell_border_6{\n",
       "border-right: 2pt solid #E84D0E !important;\n",
       "}\n",
       "\n",
       "\n",
       ".open_cell_border_7{\n",
       "border-right: 2pt solid #CF0272 !important;\n",
       "}\n",
       "\n",
       "\n",
       ".open_cell_border_8{\n",
       "border-right: 2pt solid #F199C1 !important;\n",
       "}\n",
       "\n",
       ".open_subtitle_cell{\n",
       "background-color: white !important;\n",
       "border-radius: 30px 30px 30px 30px !important;\n",
       "padding: 2px !important;\n",
       "}\n",
       "\n",
       ".center_cell{\n",
       "text-align: center !important;\n",
       "}\n",
       "\n",
       ".border_cell_left{\n",
       "border-left: 1pt solid black !important;\n",
       "}\n",
       "\n",
       ".border_cell_bottom_black{\n",
       "border-bottom: 1pt solid black !important;\n",
       "}\n",
       "\n",
       ".border_cell_bottom_white{\n",
       "border-bottom: 1pt solid white !important;\n",
       "}\n",
       "\n",
       ".round_cell_left{\n",
       "border-radius: 30px 0px 0px 30px !important;\n",
       "}\n",
       "\n",
       ".round_cell_right{\n",
       "border-radius: 0px 30px 30px 0px !important;\n",
       "}\n",
       "\n",
       ".round_cell_both{\n",
       "border-radius: 30px 30px 30px 30px !important;\n",
       "}\n",
       "\n",
       ".opacity{\n",
       "color:black !important;\n",
       "opacity: 0.20 !important;\n",
       "}\n",
       "\n",
       "tr:nth-child(even) {\n",
       "background-color: white !important;\n",
       "/*border: 0px !important;*/\n",
       "} \n",
       "\n",
       "tr:nth-child(odd) {\n",
       "background-color: white !important;\n",
       "} \n",
       "\n",
       ".rendered_html tr, .rendered_html th, .rendered_html td, .rendered_html table {\n",
       "border: 0px;\n",
       "}\n",
       "\n",
       ".icon{\n",
       "height: 30px !important;\n",
       "}\n",
       "\n",
       ".title{\n",
       "background-color: #F1F1F1 !important;\n",
       "}\n",
       "\n",
       "h2{\n",
       "text-indent: 30px !important;\n",
       "}\n",
       "\n",
       "#notebook{\n",
       "background-color: rgba(162,162,162,0.7) !important;\n",
       "}\n",
       "\n",
       "#notebook-container{\n",
       "background-color: white !important;\n",
       "}\n",
       "\n",
       ".prompt{\n",
       "min-width: 0ex !important;\n",
       "}\n",
       "\n",
       "/* Header Configuration Segment */\n",
       "\n",
       ".header_text{\n",
       "font-size: 30px !important;\n",
       "text-align: left !important;\n",
       "}\n",
       "\n",
       ".header_image_1{\n",
       "border-right: 2pt solid #302683 !important;\n",
       "}\n",
       "\n",
       ".header_image_2{\n",
       "border-right: 2pt solid #009EE3 !important;\n",
       "}\n",
       "\n",
       ".header_image_3{\n",
       "border-right: 2pt solid #00893E !important;\n",
       "}\n",
       "\n",
       ".header_image_4{\n",
       "border-right: 2pt solid #94C11E !important;\n",
       "}\n",
       "\n",
       ".header_image_5{\n",
       "border-right: 2pt solid #FDC400 !important;\n",
       "}\n",
       "\n",
       ".header_image_6{\n",
       "border-right: 2pt solid #E84D0E !important;\n",
       "}\n",
       "\n",
       ".header_image_7{\n",
       "border-right: 2pt solid #CF0272 !important;\n",
       "}\n",
       "\n",
       ".header_image_8{\n",
       "border-right: 2pt solid #F199C1 !important;\n",
       "}\n",
       "\n",
       "hr{\n",
       "border-top: 2px solid #58585A !important;\n",
       "margin-top: 8px !important;\n",
       "margin-bottom: 8px !important;\n",
       "}\n",
       "\n",
       ".checked {\n",
       "color: #FDC400 !important;\n",
       "}\n",
       "\n",
       "<style>\n",
       "\n"
      ],
      "text/plain": [
       "<IPython.core.display.HTML object>"
      ]
     },
     "execution_count": 19,
     "metadata": {},
     "output_type": "execute_result"
    }
   ],
   "source": [
    "from IPython.core.display import HTML\n",
    "def css():\n",
    "    style = open(\"../../styles/theme_style.css\", \"r\").read()\n",
    "    return HTML(style)\n",
    "\n",
    "css()"
   ]
  }
 ],
 "metadata": {
  "kernelspec": {
   "display_name": "Python 3",
   "language": "python",
   "name": "python3"
  },
  "language_info": {
   "codemirror_mode": {
    "name": "ipython",
    "version": 3
   },
   "file_extension": ".py",
   "mimetype": "text/x-python",
   "name": "python",
   "nbconvert_exporter": "python",
   "pygments_lexer": "ipython3",
   "version": "3.6.2rc1"
  },
  "widgets": {
   "application/vnd.jupyter.widget-state+json": {
    "state": {
     "0161b13ad16546b2a3b034451dedfd25": {
      "model_module": "@jupyter-widgets/output",
      "model_module_version": "1.0.0",
      "model_name": "OutputModel",
      "state": {
       "layout": "IPY_MODEL_94bc188fa22b474da13dee033154a0b9",
       "outputs": [
        {
         "ename": "KeyError",
         "evalue": "'x'",
         "output_type": "error",
         "traceback": [
          "\u001b[1;31m---------------------------------------------------------------------------\u001b[0m",
          "\u001b[1;31mKeyError\u001b[0m                                  Traceback (most recent call last)",
          "\u001b[1;32mc:\\python362\\lib\\site-packages\\ipywidgets\\widgets\\interaction.py\u001b[0m in \u001b[0;36mupdate\u001b[1;34m(self, *args)\u001b[0m\n\u001b[0;32m    249\u001b[0m                     \u001b[0mvalue\u001b[0m \u001b[1;33m=\u001b[0m \u001b[0mwidget\u001b[0m\u001b[1;33m.\u001b[0m\u001b[0mget_interact_value\u001b[0m\u001b[1;33m(\u001b[0m\u001b[1;33m)\u001b[0m\u001b[1;33m\u001b[0m\u001b[0m\n\u001b[0;32m    250\u001b[0m                     \u001b[0mself\u001b[0m\u001b[1;33m.\u001b[0m\u001b[0mkwargs\u001b[0m\u001b[1;33m[\u001b[0m\u001b[0mwidget\u001b[0m\u001b[1;33m.\u001b[0m\u001b[0m_kwarg\u001b[0m\u001b[1;33m]\u001b[0m \u001b[1;33m=\u001b[0m \u001b[0mvalue\u001b[0m\u001b[1;33m\u001b[0m\u001b[0m\n\u001b[1;32m--> 251\u001b[1;33m                 \u001b[0mself\u001b[0m\u001b[1;33m.\u001b[0m\u001b[0mresult\u001b[0m \u001b[1;33m=\u001b[0m \u001b[0mself\u001b[0m\u001b[1;33m.\u001b[0m\u001b[0mf\u001b[0m\u001b[1;33m(\u001b[0m\u001b[1;33m**\u001b[0m\u001b[0mself\u001b[0m\u001b[1;33m.\u001b[0m\u001b[0mkwargs\u001b[0m\u001b[1;33m)\u001b[0m\u001b[1;33m\u001b[0m\u001b[0m\n\u001b[0m\u001b[0;32m    252\u001b[0m                 \u001b[0mshow_inline_matplotlib_plots\u001b[0m\u001b[1;33m(\u001b[0m\u001b[1;33m)\u001b[0m\u001b[1;33m\u001b[0m\u001b[0m\n\u001b[0;32m    253\u001b[0m                 \u001b[1;32mif\u001b[0m \u001b[0mself\u001b[0m\u001b[1;33m.\u001b[0m\u001b[0mauto_display\u001b[0m \u001b[1;32mand\u001b[0m \u001b[0mself\u001b[0m\u001b[1;33m.\u001b[0m\u001b[0mresult\u001b[0m \u001b[1;32mis\u001b[0m \u001b[1;32mnot\u001b[0m \u001b[1;32mNone\u001b[0m\u001b[1;33m:\u001b[0m\u001b[1;33m\u001b[0m\u001b[0m\n",
          "\u001b[1;32m<ipython-input-38-35afb73d9372>\u001b[0m in \u001b[0;36mfunction\u001b[1;34m(x)\u001b[0m\n\u001b[0;32m      1\u001b[0m \u001b[1;32mdef\u001b[0m \u001b[0mfunction\u001b[0m\u001b[1;33m(\u001b[0m\u001b[0mx\u001b[0m\u001b[1;33m)\u001b[0m\u001b[1;33m:\u001b[0m\u001b[1;33m\u001b[0m\u001b[0m\n\u001b[1;32m----> 2\u001b[1;33m     \u001b[1;32mreturn\u001b[0m \u001b[1;34m\"{x}\"\u001b[0m\u001b[1;33m.\u001b[0m\u001b[0mformat\u001b[0m\u001b[1;33m(\u001b[0m\u001b[0mx\u001b[0m\u001b[1;33m)\u001b[0m\u001b[1;33m\u001b[0m\u001b[0m\n\u001b[0m\u001b[0;32m      3\u001b[0m \u001b[1;33m\u001b[0m\u001b[0m\n\u001b[0;32m      4\u001b[0m \u001b[0mwdg\u001b[0m \u001b[1;33m=\u001b[0m \u001b[0mwidgets\u001b[0m\u001b[1;33m.\u001b[0m\u001b[0minteract\u001b[0m\u001b[1;33m(\u001b[0m\u001b[0mfunction\u001b[0m\u001b[1;33m,\u001b[0m \u001b[0mx\u001b[0m\u001b[1;33m=\u001b[0m\u001b[1;33m{\u001b[0m\u001b[1;34m'One'\u001b[0m\u001b[1;33m:\u001b[0m \u001b[1;36m1\u001b[0m\u001b[1;33m,\u001b[0m \u001b[1;34m'Two'\u001b[0m\u001b[1;33m:\u001b[0m \u001b[1;36m2\u001b[0m\u001b[1;33m,\u001b[0m \u001b[1;34m'Three'\u001b[0m\u001b[1;33m:\u001b[0m \u001b[1;36m3\u001b[0m\u001b[1;33m}\u001b[0m\u001b[1;33m)\u001b[0m\u001b[1;33m\u001b[0m\u001b[0m\n",
          "\u001b[1;31mKeyError\u001b[0m: 'x'"
         ]
        }
       ]
      }
     },
     "08b272d19c6c4f208d1f2e8e9045e266": {
      "model_module": "@jupyter-widgets/controls",
      "model_module_version": "1.2.0",
      "model_name": "DescriptionStyleModel",
      "state": {
       "description_width": ""
      }
     },
     "09dc4103190e454a829d2853a2b60440": {
      "model_module": "@jupyter-widgets/base",
      "model_module_version": "1.0.0",
      "model_name": "LayoutModel",
      "state": {}
     },
     "0bb84e3398884a19871a8a4eb8b8e0f4": {
      "model_module": "@jupyter-widgets/base",
      "model_module_version": "1.0.0",
      "model_name": "LayoutModel",
      "state": {}
     },
     "0f1c5a61d2da4c85ac28ebd5feb5c413": {
      "model_module": "@jupyter-widgets/base",
      "model_module_version": "1.0.0",
      "model_name": "LayoutModel",
      "state": {}
     },
     "1161c90c843b4d44bdb6dbcc3bcb75a9": {
      "model_module": "@jupyter-widgets/output",
      "model_module_version": "1.0.0",
      "model_name": "OutputModel",
      "state": {
       "layout": "IPY_MODEL_2298675d75864365a0eec46bb03e33dd",
       "outputs": [
        {
         "name": "stdout",
         "output_type": "stream",
         "text": "2\n"
        }
       ]
      }
     },
     "11dff199e8394c71a72d005563e5f87a": {
      "model_module": "@jupyter-widgets/controls",
      "model_module_version": "1.2.0",
      "model_name": "DropdownModel",
      "state": {
       "_options_labels": [
        "One",
        "Two",
        "Three"
       ],
       "description": "Number:",
       "index": 1,
       "layout": "IPY_MODEL_79971a7f79b54e178f457ebd035f02a0",
       "style": "IPY_MODEL_c9e9d7d3c4444763890bf22f17fbfc85"
      }
     },
     "1593bf09740f488eaa54725da3e90b76": {
      "model_module": "@jupyter-widgets/controls",
      "model_module_version": "1.2.0",
      "model_name": "DropdownModel",
      "state": {
       "_options_labels": [
        "One",
        "Two",
        "Three"
       ],
       "description": "Number:",
       "index": 1,
       "layout": "IPY_MODEL_4268222f285d48b582b86d755348a878",
       "style": "IPY_MODEL_4a1ecf0215ff41589062b7ae0d3e3421"
      }
     },
     "16e24e93f8cc4bfa8a67a066dda219f1": {
      "model_module": "@jupyter-widgets/base",
      "model_module_version": "1.0.0",
      "model_name": "LayoutModel",
      "state": {}
     },
     "17b94f028a6f4011a18efcfa50682058": {
      "model_module": "@jupyter-widgets/base",
      "model_module_version": "1.0.0",
      "model_name": "LayoutModel",
      "state": {}
     },
     "18791182351a4f7b9266a88d56efa8ae": {
      "model_module": "@jupyter-widgets/base",
      "model_module_version": "1.0.0",
      "model_name": "LayoutModel",
      "state": {}
     },
     "1a04f906b90448d3af41e7fef1ca07dd": {
      "model_module": "@jupyter-widgets/base",
      "model_module_version": "1.0.0",
      "model_name": "LayoutModel",
      "state": {}
     },
     "1cbeebadcd5842de8cb98f7b704689f0": {
      "model_module": "@jupyter-widgets/base",
      "model_module_version": "1.0.0",
      "model_name": "LayoutModel",
      "state": {}
     },
     "1f1b9569246c4b6d9e6c1d7abcdfcd52": {
      "model_module": "@jupyter-widgets/controls",
      "model_module_version": "1.2.0",
      "model_name": "DescriptionStyleModel",
      "state": {
       "description_width": ""
      }
     },
     "20565de439c04ee08beb4608a926bb61": {
      "model_module": "@jupyter-widgets/controls",
      "model_module_version": "1.2.0",
      "model_name": "DropdownModel",
      "state": {
       "_options_labels": [
        "One",
        "Two",
        "Three"
       ],
       "description": "Number:",
       "index": 1,
       "layout": "IPY_MODEL_77aa81a6bda84f7aa618738b5ec710c7",
       "style": "IPY_MODEL_a829efd1d4674b5ab839d0e7423af212"
      }
     },
     "2298675d75864365a0eec46bb03e33dd": {
      "model_module": "@jupyter-widgets/base",
      "model_module_version": "1.0.0",
      "model_name": "LayoutModel",
      "state": {}
     },
     "247caea5292a46c89a71d6fae1f22241": {
      "model_module": "@jupyter-widgets/controls",
      "model_module_version": "1.2.0",
      "model_name": "DropdownModel",
      "state": {
       "_options_labels": [
        "One",
        "Two",
        "Three"
       ],
       "description": "x",
       "index": 0,
       "layout": "IPY_MODEL_68973712b6f944608d66aba7ac308cdc",
       "style": "IPY_MODEL_adc732f56e27430297ef06e20a9b1fbd"
      }
     },
     "25b9ffb3a0344a9b92c7aa1972488665": {
      "model_module": "@jupyter-widgets/base",
      "model_module_version": "1.0.0",
      "model_name": "LayoutModel",
      "state": {}
     },
     "26279ea0a54d4096b58f886b101f5f98": {
      "model_module": "@jupyter-widgets/controls",
      "model_module_version": "1.2.0",
      "model_name": "DropdownModel",
      "state": {
       "_options_labels": [
        "One",
        "Two",
        "Three"
       ],
       "description": "Number:",
       "index": 0,
       "layout": "IPY_MODEL_ed3fb0bbafde44539e82a09fb5438aa6",
       "style": "IPY_MODEL_1f1b9569246c4b6d9e6c1d7abcdfcd52"
      }
     },
     "27caa35c2a1343abb06d1489a0aef01e": {
      "model_module": "@jupyter-widgets/base",
      "model_module_version": "1.0.0",
      "model_name": "LayoutModel",
      "state": {}
     },
     "288e445a1a2e49d3892b7355bc75ba81": {
      "model_module": "@jupyter-widgets/controls",
      "model_module_version": "1.2.0",
      "model_name": "DropdownModel",
      "state": {
       "_options_labels": [
        "One",
        "Two",
        "Three"
       ],
       "description": "x",
       "index": 0,
       "layout": "IPY_MODEL_a832858af6454b32ad15f2e324d475ea",
       "style": "IPY_MODEL_e72eff438eee45a8b9f9db98f175e383"
      }
     },
     "291bd274313e4b24abf8cfd740eea310": {
      "model_module": "@jupyter-widgets/controls",
      "model_module_version": "1.2.0",
      "model_name": "DropdownModel",
      "state": {
       "_options_labels": [
        "One",
        "Two",
        "Three"
       ],
       "description": "Number:",
       "index": 0,
       "layout": "IPY_MODEL_ec826a2ca45c47c9a4522c4528253ae7",
       "style": "IPY_MODEL_878a4deba2384de98f10b2e19f6f9b97"
      }
     },
     "2a79a672a8824490adf895ada35162a1": {
      "model_module": "@jupyter-widgets/controls",
      "model_module_version": "1.2.0",
      "model_name": "DescriptionStyleModel",
      "state": {
       "description_width": ""
      }
     },
     "2d600548b7c44d0bb10b6273c4a32056": {
      "model_module": "@jupyter-widgets/base",
      "model_module_version": "1.0.0",
      "model_name": "LayoutModel",
      "state": {}
     },
     "2f142b3dfb1d45baa7f5f333c6985706": {
      "model_module": "@jupyter-widgets/controls",
      "model_module_version": "1.2.0",
      "model_name": "DescriptionStyleModel",
      "state": {
       "description_width": ""
      }
     },
     "312557325c914f26a883652454ec4ede": {
      "model_module": "@jupyter-widgets/controls",
      "model_module_version": "1.2.0",
      "model_name": "DescriptionStyleModel",
      "state": {
       "description_width": ""
      }
     },
     "3575b828b54d48e299d7aba9180c668e": {
      "model_module": "@jupyter-widgets/controls",
      "model_module_version": "1.2.0",
      "model_name": "DescriptionStyleModel",
      "state": {
       "description_width": ""
      }
     },
     "371f4aac93ba469786a7c8525b184bc8": {
      "model_module": "@jupyter-widgets/base",
      "model_module_version": "1.0.0",
      "model_name": "LayoutModel",
      "state": {}
     },
     "37b1c7f7a26b47f584e6ff62a3a4e980": {
      "model_module": "@jupyter-widgets/controls",
      "model_module_version": "1.2.0",
      "model_name": "DescriptionStyleModel",
      "state": {
       "description_width": ""
      }
     },
     "3a295b66df294799a80f0a93eb901119": {
      "model_module": "@jupyter-widgets/controls",
      "model_module_version": "1.2.0",
      "model_name": "VBoxModel",
      "state": {
       "_dom_classes": [
        "widget-interact"
       ],
       "children": [
        "IPY_MODEL_462b9f562ad040209ea080c0770582b1",
        "IPY_MODEL_c700027903244b6d8b45e9056e18d0aa"
       ],
       "layout": "IPY_MODEL_d6ee3c71fcc9409a916ee3ffa405c602"
      }
     },
     "3af762392f964023a8d9ef7dac655962": {
      "model_module": "@jupyter-widgets/base",
      "model_module_version": "1.0.0",
      "model_name": "LayoutModel",
      "state": {}
     },
     "3d9f34144ac8453d8180d18f0a2221b4": {
      "model_module": "@jupyter-widgets/output",
      "model_module_version": "1.0.0",
      "model_name": "OutputModel",
      "state": {
       "layout": "IPY_MODEL_9188ef3f25834c8098191c96c3a8e2c3",
       "outputs": [
        {
         "ename": "AttributeError",
         "evalue": "'int' object has no attribute 'value'",
         "output_type": "error",
         "traceback": [
          "\u001b[1;31m---------------------------------------------------------------------------\u001b[0m",
          "\u001b[1;31mAttributeError\u001b[0m                            Traceback (most recent call last)",
          "\u001b[1;32mc:\\python362\\lib\\site-packages\\ipywidgets\\widgets\\interaction.py\u001b[0m in \u001b[0;36mupdate\u001b[1;34m(self, *args)\u001b[0m\n\u001b[0;32m    249\u001b[0m                     \u001b[0mvalue\u001b[0m \u001b[1;33m=\u001b[0m \u001b[0mwidget\u001b[0m\u001b[1;33m.\u001b[0m\u001b[0mget_interact_value\u001b[0m\u001b[1;33m(\u001b[0m\u001b[1;33m)\u001b[0m\u001b[1;33m\u001b[0m\u001b[0m\n\u001b[0;32m    250\u001b[0m                     \u001b[0mself\u001b[0m\u001b[1;33m.\u001b[0m\u001b[0mkwargs\u001b[0m\u001b[1;33m[\u001b[0m\u001b[0mwidget\u001b[0m\u001b[1;33m.\u001b[0m\u001b[0m_kwarg\u001b[0m\u001b[1;33m]\u001b[0m \u001b[1;33m=\u001b[0m \u001b[0mvalue\u001b[0m\u001b[1;33m\u001b[0m\u001b[0m\n\u001b[1;32m--> 251\u001b[1;33m                 \u001b[0mself\u001b[0m\u001b[1;33m.\u001b[0m\u001b[0mresult\u001b[0m \u001b[1;33m=\u001b[0m \u001b[0mself\u001b[0m\u001b[1;33m.\u001b[0m\u001b[0mf\u001b[0m\u001b[1;33m(\u001b[0m\u001b[1;33m**\u001b[0m\u001b[0mself\u001b[0m\u001b[1;33m.\u001b[0m\u001b[0mkwargs\u001b[0m\u001b[1;33m)\u001b[0m\u001b[1;33m\u001b[0m\u001b[0m\n\u001b[0m\u001b[0;32m    252\u001b[0m                 \u001b[0mshow_inline_matplotlib_plots\u001b[0m\u001b[1;33m(\u001b[0m\u001b[1;33m)\u001b[0m\u001b[1;33m\u001b[0m\u001b[0m\n\u001b[0;32m    253\u001b[0m                 \u001b[1;32mif\u001b[0m \u001b[0mself\u001b[0m\u001b[1;33m.\u001b[0m\u001b[0mauto_display\u001b[0m \u001b[1;32mand\u001b[0m \u001b[0mself\u001b[0m\u001b[1;33m.\u001b[0m\u001b[0mresult\u001b[0m \u001b[1;32mis\u001b[0m \u001b[1;32mnot\u001b[0m \u001b[1;32mNone\u001b[0m\u001b[1;33m:\u001b[0m\u001b[1;33m\u001b[0m\u001b[0m\n",
          "\u001b[1;32m<ipython-input-36-4e224294eb37>\u001b[0m in \u001b[0;36mfunction\u001b[1;34m(x)\u001b[0m\n\u001b[0;32m      1\u001b[0m \u001b[1;32mdef\u001b[0m \u001b[0mfunction\u001b[0m\u001b[1;33m(\u001b[0m\u001b[0mx\u001b[0m\u001b[1;33m)\u001b[0m\u001b[1;33m:\u001b[0m\u001b[1;33m\u001b[0m\u001b[0m\n\u001b[1;32m----> 2\u001b[1;33m     \u001b[0mprint\u001b[0m \u001b[1;33m(\u001b[0m\u001b[0mx\u001b[0m\u001b[1;33m.\u001b[0m\u001b[0mvalue\u001b[0m\u001b[1;33m)\u001b[0m\u001b[1;33m\u001b[0m\u001b[0m\n\u001b[0m\u001b[0;32m      3\u001b[0m \u001b[1;33m\u001b[0m\u001b[0m\n\u001b[0;32m      4\u001b[0m \u001b[0mwdg\u001b[0m \u001b[1;33m=\u001b[0m \u001b[0mwidgets\u001b[0m\u001b[1;33m.\u001b[0m\u001b[0minteract\u001b[0m\u001b[1;33m(\u001b[0m\u001b[0mfunction\u001b[0m\u001b[1;33m,\u001b[0m \u001b[0mx\u001b[0m\u001b[1;33m=\u001b[0m\u001b[1;33m{\u001b[0m\u001b[1;34m'One'\u001b[0m\u001b[1;33m:\u001b[0m \u001b[1;36m1\u001b[0m\u001b[1;33m,\u001b[0m \u001b[1;34m'Two'\u001b[0m\u001b[1;33m:\u001b[0m \u001b[1;36m2\u001b[0m\u001b[1;33m,\u001b[0m \u001b[1;34m'Three'\u001b[0m\u001b[1;33m:\u001b[0m \u001b[1;36m3\u001b[0m\u001b[1;33m}\u001b[0m\u001b[1;33m)\u001b[0m\u001b[1;33m\u001b[0m\u001b[0m\n",
          "\u001b[1;31mAttributeError\u001b[0m: 'int' object has no attribute 'value'"
         ]
        }
       ]
      }
     },
     "3f4d7474d47948488483344039af8e36": {
      "model_module": "@jupyter-widgets/base",
      "model_module_version": "1.0.0",
      "model_name": "LayoutModel",
      "state": {}
     },
     "405c5d10656046b2a2005373ecc17af9": {
      "model_module": "@jupyter-widgets/output",
      "model_module_version": "1.0.0",
      "model_name": "OutputModel",
      "state": {
       "layout": "IPY_MODEL_c435d2d553a8459ba85eab75c215fdc6",
       "outputs": [
        {
         "ename": "AttributeError",
         "evalue": "'function' object has no attribute 'value'",
         "output_type": "error",
         "traceback": [
          "\u001b[1;31m---------------------------------------------------------------------------\u001b[0m",
          "\u001b[1;31mAttributeError\u001b[0m                            Traceback (most recent call last)",
          "\u001b[1;32mc:\\python362\\lib\\site-packages\\ipywidgets\\widgets\\interaction.py\u001b[0m in \u001b[0;36mupdate\u001b[1;34m(self, *args)\u001b[0m\n\u001b[0;32m    249\u001b[0m                     \u001b[0mvalue\u001b[0m \u001b[1;33m=\u001b[0m \u001b[0mwidget\u001b[0m\u001b[1;33m.\u001b[0m\u001b[0mget_interact_value\u001b[0m\u001b[1;33m(\u001b[0m\u001b[1;33m)\u001b[0m\u001b[1;33m\u001b[0m\u001b[0m\n\u001b[0;32m    250\u001b[0m                     \u001b[0mself\u001b[0m\u001b[1;33m.\u001b[0m\u001b[0mkwargs\u001b[0m\u001b[1;33m[\u001b[0m\u001b[0mwidget\u001b[0m\u001b[1;33m.\u001b[0m\u001b[0m_kwarg\u001b[0m\u001b[1;33m]\u001b[0m \u001b[1;33m=\u001b[0m \u001b[0mvalue\u001b[0m\u001b[1;33m\u001b[0m\u001b[0m\n\u001b[1;32m--> 251\u001b[1;33m                 \u001b[0mself\u001b[0m\u001b[1;33m.\u001b[0m\u001b[0mresult\u001b[0m \u001b[1;33m=\u001b[0m \u001b[0mself\u001b[0m\u001b[1;33m.\u001b[0m\u001b[0mf\u001b[0m\u001b[1;33m(\u001b[0m\u001b[1;33m**\u001b[0m\u001b[0mself\u001b[0m\u001b[1;33m.\u001b[0m\u001b[0mkwargs\u001b[0m\u001b[1;33m)\u001b[0m\u001b[1;33m\u001b[0m\u001b[0m\n\u001b[0m\u001b[0;32m    252\u001b[0m                 \u001b[0mshow_inline_matplotlib_plots\u001b[0m\u001b[1;33m(\u001b[0m\u001b[1;33m)\u001b[0m\u001b[1;33m\u001b[0m\u001b[0m\n\u001b[0;32m    253\u001b[0m                 \u001b[1;32mif\u001b[0m \u001b[0mself\u001b[0m\u001b[1;33m.\u001b[0m\u001b[0mauto_display\u001b[0m \u001b[1;32mand\u001b[0m \u001b[0mself\u001b[0m\u001b[1;33m.\u001b[0m\u001b[0mresult\u001b[0m \u001b[1;32mis\u001b[0m \u001b[1;32mnot\u001b[0m \u001b[1;32mNone\u001b[0m\u001b[1;33m:\u001b[0m\u001b[1;33m\u001b[0m\u001b[0m\n",
          "\u001b[1;32m<ipython-input-33-67fa3c6a298a>\u001b[0m in \u001b[0;36mfunction\u001b[1;34m()\u001b[0m\n\u001b[0;32m      1\u001b[0m \u001b[1;32mdef\u001b[0m \u001b[0mfunction\u001b[0m\u001b[1;33m(\u001b[0m\u001b[1;33m)\u001b[0m\u001b[1;33m:\u001b[0m\u001b[1;33m\u001b[0m\u001b[0m\n\u001b[1;32m----> 2\u001b[1;33m     \u001b[0mprint\u001b[0m \u001b[1;33m(\u001b[0m\u001b[0mwdg\u001b[0m\u001b[1;33m.\u001b[0m\u001b[0mvalue\u001b[0m\u001b[1;33m)\u001b[0m\u001b[1;33m\u001b[0m\u001b[0m\n\u001b[0m\u001b[0;32m      3\u001b[0m \u001b[1;33m\u001b[0m\u001b[0m\n\u001b[0;32m      4\u001b[0m \u001b[0mwidgets\u001b[0m\u001b[1;33m.\u001b[0m\u001b[0minteract\u001b[0m\u001b[1;33m(\u001b[0m\u001b[0mfunction\u001b[0m\u001b[1;33m,\u001b[0m \u001b[0mx\u001b[0m\u001b[1;33m=\u001b[0m\u001b[1;33m{\u001b[0m\u001b[1;34m'One'\u001b[0m\u001b[1;33m:\u001b[0m \u001b[1;36m1\u001b[0m\u001b[1;33m,\u001b[0m \u001b[1;34m'Two'\u001b[0m\u001b[1;33m:\u001b[0m \u001b[1;36m2\u001b[0m\u001b[1;33m,\u001b[0m \u001b[1;34m'Three'\u001b[0m\u001b[1;33m:\u001b[0m \u001b[1;36m3\u001b[0m\u001b[1;33m}\u001b[0m\u001b[1;33m)\u001b[0m\u001b[1;33m\u001b[0m\u001b[0m\n",
          "\u001b[1;31mAttributeError\u001b[0m: 'function' object has no attribute 'value'"
         ]
        }
       ]
      }
     },
     "41200abc15f044f39b397c9eb074e533": {
      "model_module": "@jupyter-widgets/controls",
      "model_module_version": "1.2.0",
      "model_name": "DescriptionStyleModel",
      "state": {
       "description_width": ""
      }
     },
     "4268222f285d48b582b86d755348a878": {
      "model_module": "@jupyter-widgets/base",
      "model_module_version": "1.0.0",
      "model_name": "LayoutModel",
      "state": {}
     },
     "427b3d811c994ed89d04798c799340e1": {
      "model_module": "@jupyter-widgets/controls",
      "model_module_version": "1.2.0",
      "model_name": "DropdownModel",
      "state": {
       "_options_labels": [
        "One",
        "Two",
        "Three"
       ],
       "description": "Number:",
       "index": 1,
       "layout": "IPY_MODEL_18791182351a4f7b9266a88d56efa8ae",
       "style": "IPY_MODEL_b074228676f1415eab220e5d254d87a7"
      }
     },
     "462b9f562ad040209ea080c0770582b1": {
      "model_module": "@jupyter-widgets/controls",
      "model_module_version": "1.2.0",
      "model_name": "DropdownModel",
      "state": {
       "_options_labels": [
        "One",
        "Two",
        "Three"
       ],
       "description": "x",
       "index": 1,
       "layout": "IPY_MODEL_9c23693ad7fc456aa2c2a4215cff2bcd",
       "style": "IPY_MODEL_2f142b3dfb1d45baa7f5f333c6985706"
      }
     },
     "469d8da3557f4326aa9176d6b9d1d0ad": {
      "model_module": "@jupyter-widgets/base",
      "model_module_version": "1.0.0",
      "model_name": "LayoutModel",
      "state": {}
     },
     "4a1ecf0215ff41589062b7ae0d3e3421": {
      "model_module": "@jupyter-widgets/controls",
      "model_module_version": "1.2.0",
      "model_name": "DescriptionStyleModel",
      "state": {
       "description_width": ""
      }
     },
     "4c019af9bded481eb71a67b1c1eda091": {
      "model_module": "@jupyter-widgets/base",
      "model_module_version": "1.0.0",
      "model_name": "LayoutModel",
      "state": {}
     },
     "50fda371c6c54161ab939a98977444b4": {
      "model_module": "@jupyter-widgets/output",
      "model_module_version": "1.0.0",
      "model_name": "OutputModel",
      "state": {
       "layout": "IPY_MODEL_785b98674c344428a1446d006269d592",
       "outputs": [
        {
         "name": "stdout",
         "output_type": "stream",
         "text": "2\n"
        }
       ]
      }
     },
     "52a17450198147f18d7276b25dd15e54": {
      "model_module": "@jupyter-widgets/controls",
      "model_module_version": "1.2.0",
      "model_name": "DropdownModel",
      "state": {
       "_options_labels": [
        "One",
        "Two",
        "Three"
       ],
       "description": "Number:",
       "index": 0,
       "layout": "IPY_MODEL_961fa633d59e42ccab0777d57286909d",
       "style": "IPY_MODEL_08b272d19c6c4f208d1f2e8e9045e266"
      }
     },
     "53601e4785e24a0dad255da76a46e35d": {
      "model_module": "@jupyter-widgets/controls",
      "model_module_version": "1.2.0",
      "model_name": "DescriptionStyleModel",
      "state": {
       "description_width": ""
      }
     },
     "568e221ead12466aa75fe3c3b3744789": {
      "model_module": "@jupyter-widgets/base",
      "model_module_version": "1.0.0",
      "model_name": "LayoutModel",
      "state": {}
     },
     "5a166b8cc77b4ade9463d5298bfd9293": {
      "model_module": "@jupyter-widgets/base",
      "model_module_version": "1.0.0",
      "model_name": "LayoutModel",
      "state": {}
     },
     "5a66d7fad531487a889cd419fe971a2a": {
      "model_module": "@jupyter-widgets/controls",
      "model_module_version": "1.2.0",
      "model_name": "DescriptionStyleModel",
      "state": {
       "description_width": ""
      }
     },
     "5bab5e5fae9c4d90bf3ca6f2a42cffbf": {
      "model_module": "@jupyter-widgets/base",
      "model_module_version": "1.0.0",
      "model_name": "LayoutModel",
      "state": {}
     },
     "5e9203659ea34796975371217129e831": {
      "model_module": "@jupyter-widgets/base",
      "model_module_version": "1.0.0",
      "model_name": "LayoutModel",
      "state": {}
     },
     "5f1b71fbdba7478c8e11902d2da66f6c": {
      "model_module": "@jupyter-widgets/controls",
      "model_module_version": "1.2.0",
      "model_name": "VBoxModel",
      "state": {
       "_dom_classes": [
        "widget-interact"
       ],
       "children": [
        "IPY_MODEL_288e445a1a2e49d3892b7355bc75ba81",
        "IPY_MODEL_0161b13ad16546b2a3b034451dedfd25"
       ],
       "layout": "IPY_MODEL_cb12b376335d401abeb2b50b8915502e"
      }
     },
     "655b01bf255244309b06333d7854f396": {
      "model_module": "@jupyter-widgets/controls",
      "model_module_version": "1.2.0",
      "model_name": "VBoxModel",
      "state": {
       "_dom_classes": [
        "widget-interact"
       ],
       "children": [
        "IPY_MODEL_b58aea8edfa94590ae754402f598394f",
        "IPY_MODEL_7c375d3229c1417d8320edf03bb25c43"
       ],
       "layout": "IPY_MODEL_fc37ab3399254d5e87680a6dd16e1078"
      }
     },
     "68973712b6f944608d66aba7ac308cdc": {
      "model_module": "@jupyter-widgets/base",
      "model_module_version": "1.0.0",
      "model_name": "LayoutModel",
      "state": {}
     },
     "69a34532509a42e8b050b3a79c4e9bd9": {
      "model_module": "@jupyter-widgets/controls",
      "model_module_version": "1.2.0",
      "model_name": "DropdownModel",
      "state": {
       "_options_labels": [
        "One",
        "Two",
        "Three"
       ],
       "description": "x",
       "index": 1,
       "layout": "IPY_MODEL_16e24e93f8cc4bfa8a67a066dda219f1",
       "style": "IPY_MODEL_5a66d7fad531487a889cd419fe971a2a"
      }
     },
     "6e302d87bb3344f59e06f5bd547ccf6b": {
      "model_module": "@jupyter-widgets/base",
      "model_module_version": "1.0.0",
      "model_name": "LayoutModel",
      "state": {}
     },
     "74a11ee59ae74e4da3395e2ec6658255": {
      "model_module": "@jupyter-widgets/controls",
      "model_module_version": "1.2.0",
      "model_name": "VBoxModel",
      "state": {
       "_dom_classes": [
        "widget-interact"
       ],
       "children": [
        "IPY_MODEL_405c5d10656046b2a2005373ecc17af9"
       ],
       "layout": "IPY_MODEL_83a715cb6c624acaa2cd3710695f180e"
      }
     },
     "761f798f248d49f3a738d7659079d577": {
      "model_module": "@jupyter-widgets/controls",
      "model_module_version": "1.2.0",
      "model_name": "VBoxModel",
      "state": {
       "_dom_classes": [
        "widget-interact"
       ],
       "children": [
        "IPY_MODEL_7fda75193eb8426a9b9deb0cdcdd7b60",
        "IPY_MODEL_98088015b2864db08ce3c86305b339cb"
       ],
       "layout": "IPY_MODEL_6e302d87bb3344f59e06f5bd547ccf6b"
      }
     },
     "76cd1d8ecd774c5990cacd4c1eaa35a5": {
      "model_module": "@jupyter-widgets/base",
      "model_module_version": "1.0.0",
      "model_name": "LayoutModel",
      "state": {}
     },
     "77aa81a6bda84f7aa618738b5ec710c7": {
      "model_module": "@jupyter-widgets/base",
      "model_module_version": "1.0.0",
      "model_name": "LayoutModel",
      "state": {}
     },
     "785b98674c344428a1446d006269d592": {
      "model_module": "@jupyter-widgets/base",
      "model_module_version": "1.0.0",
      "model_name": "LayoutModel",
      "state": {}
     },
     "79971a7f79b54e178f457ebd035f02a0": {
      "model_module": "@jupyter-widgets/base",
      "model_module_version": "1.0.0",
      "model_name": "LayoutModel",
      "state": {}
     },
     "7ab42adafd1c4d76ad354a0e0a709c82": {
      "model_module": "@jupyter-widgets/controls",
      "model_module_version": "1.2.0",
      "model_name": "DropdownModel",
      "state": {
       "_options_labels": [
        "One",
        "Two",
        "Three"
       ],
       "description": "Number:",
       "index": 1,
       "layout": "IPY_MODEL_4c019af9bded481eb71a67b1c1eda091",
       "style": "IPY_MODEL_53601e4785e24a0dad255da76a46e35d"
      }
     },
     "7b9e9055211540d0884f8ec550c35995": {
      "model_module": "@jupyter-widgets/controls",
      "model_module_version": "1.2.0",
      "model_name": "VBoxModel",
      "state": {
       "_dom_classes": [
        "widget-interact"
       ],
       "children": [
        "IPY_MODEL_cfcb767129484a4886e7d978cbdd59b4"
       ],
       "layout": "IPY_MODEL_3af762392f964023a8d9ef7dac655962"
      }
     },
     "7c375d3229c1417d8320edf03bb25c43": {
      "model_module": "@jupyter-widgets/output",
      "model_module_version": "1.0.0",
      "model_name": "OutputModel",
      "state": {
       "layout": "IPY_MODEL_82da8f310213410a83ce0f9df972103b",
       "outputs": [
        {
         "ename": "AttributeError",
         "evalue": "'set' object has no attribute 'format'",
         "output_type": "error",
         "traceback": [
          "\u001b[1;31m---------------------------------------------------------------------------\u001b[0m",
          "\u001b[1;31mAttributeError\u001b[0m                            Traceback (most recent call last)",
          "\u001b[1;32mc:\\python362\\lib\\site-packages\\ipywidgets\\widgets\\interaction.py\u001b[0m in \u001b[0;36mupdate\u001b[1;34m(self, *args)\u001b[0m\n\u001b[0;32m    249\u001b[0m                     \u001b[0mvalue\u001b[0m \u001b[1;33m=\u001b[0m \u001b[0mwidget\u001b[0m\u001b[1;33m.\u001b[0m\u001b[0mget_interact_value\u001b[0m\u001b[1;33m(\u001b[0m\u001b[1;33m)\u001b[0m\u001b[1;33m\u001b[0m\u001b[0m\n\u001b[0;32m    250\u001b[0m                     \u001b[0mself\u001b[0m\u001b[1;33m.\u001b[0m\u001b[0mkwargs\u001b[0m\u001b[1;33m[\u001b[0m\u001b[0mwidget\u001b[0m\u001b[1;33m.\u001b[0m\u001b[0m_kwarg\u001b[0m\u001b[1;33m]\u001b[0m \u001b[1;33m=\u001b[0m \u001b[0mvalue\u001b[0m\u001b[1;33m\u001b[0m\u001b[0m\n\u001b[1;32m--> 251\u001b[1;33m                 \u001b[0mself\u001b[0m\u001b[1;33m.\u001b[0m\u001b[0mresult\u001b[0m \u001b[1;33m=\u001b[0m \u001b[0mself\u001b[0m\u001b[1;33m.\u001b[0m\u001b[0mf\u001b[0m\u001b[1;33m(\u001b[0m\u001b[1;33m**\u001b[0m\u001b[0mself\u001b[0m\u001b[1;33m.\u001b[0m\u001b[0mkwargs\u001b[0m\u001b[1;33m)\u001b[0m\u001b[1;33m\u001b[0m\u001b[0m\n\u001b[0m\u001b[0;32m    252\u001b[0m                 \u001b[0mshow_inline_matplotlib_plots\u001b[0m\u001b[1;33m(\u001b[0m\u001b[1;33m)\u001b[0m\u001b[1;33m\u001b[0m\u001b[0m\n\u001b[0;32m    253\u001b[0m                 \u001b[1;32mif\u001b[0m \u001b[0mself\u001b[0m\u001b[1;33m.\u001b[0m\u001b[0mauto_display\u001b[0m \u001b[1;32mand\u001b[0m \u001b[0mself\u001b[0m\u001b[1;33m.\u001b[0m\u001b[0mresult\u001b[0m \u001b[1;32mis\u001b[0m \u001b[1;32mnot\u001b[0m \u001b[1;32mNone\u001b[0m\u001b[1;33m:\u001b[0m\u001b[1;33m\u001b[0m\u001b[0m\n",
          "\u001b[1;32m<ipython-input-37-b1d753206590>\u001b[0m in \u001b[0;36mfunction\u001b[1;34m(x)\u001b[0m\n\u001b[0;32m      1\u001b[0m \u001b[1;32mdef\u001b[0m \u001b[0mfunction\u001b[0m\u001b[1;33m(\u001b[0m\u001b[0mx\u001b[0m\u001b[1;33m)\u001b[0m\u001b[1;33m:\u001b[0m\u001b[1;33m\u001b[0m\u001b[0m\n\u001b[1;32m----> 2\u001b[1;33m     \u001b[1;32mreturn\u001b[0m \u001b[1;33m{\u001b[0m\u001b[1;34m\"x\"\u001b[0m\u001b[1;33m}\u001b[0m\u001b[1;33m.\u001b[0m\u001b[0mformat\u001b[0m\u001b[1;33m(\u001b[0m\u001b[0mx\u001b[0m\u001b[1;33m)\u001b[0m\u001b[1;33m\u001b[0m\u001b[0m\n\u001b[0m\u001b[0;32m      3\u001b[0m \u001b[1;33m\u001b[0m\u001b[0m\n\u001b[0;32m      4\u001b[0m \u001b[0mwdg\u001b[0m \u001b[1;33m=\u001b[0m \u001b[0mwidgets\u001b[0m\u001b[1;33m.\u001b[0m\u001b[0minteract\u001b[0m\u001b[1;33m(\u001b[0m\u001b[0mfunction\u001b[0m\u001b[1;33m,\u001b[0m \u001b[0mx\u001b[0m\u001b[1;33m=\u001b[0m\u001b[1;33m{\u001b[0m\u001b[1;34m'One'\u001b[0m\u001b[1;33m:\u001b[0m \u001b[1;36m1\u001b[0m\u001b[1;33m,\u001b[0m \u001b[1;34m'Two'\u001b[0m\u001b[1;33m:\u001b[0m \u001b[1;36m2\u001b[0m\u001b[1;33m,\u001b[0m \u001b[1;34m'Three'\u001b[0m\u001b[1;33m:\u001b[0m \u001b[1;36m3\u001b[0m\u001b[1;33m}\u001b[0m\u001b[1;33m)\u001b[0m\u001b[1;33m\u001b[0m\u001b[0m\n",
          "\u001b[1;31mAttributeError\u001b[0m: 'set' object has no attribute 'format'"
         ]
        }
       ]
      }
     },
     "7cbda9941ced48f88229b41e0a2a378b": {
      "model_module": "@jupyter-widgets/controls",
      "model_module_version": "1.2.0",
      "model_name": "DropdownModel",
      "state": {
       "_options_labels": [
        "One",
        "Two",
        "Three"
       ],
       "description": "Number:",
       "index": 1,
       "layout": "IPY_MODEL_17b94f028a6f4011a18efcfa50682058",
       "style": "IPY_MODEL_9cffde90d83f49a78e12e8be17732251"
      }
     },
     "7d26b489cd98421a981aedf866af1e95": {
      "model_module": "@jupyter-widgets/output",
      "model_module_version": "1.0.0",
      "model_name": "OutputModel",
      "state": {
       "layout": "IPY_MODEL_cade9c6ce4124f4281d36984a6c4e754",
       "outputs": [
        {
         "name": "stdout",
         "output_type": "stream",
         "text": "2\n"
        }
       ]
      }
     },
     "7f52767641f74359953800c2f8dd7a56": {
      "model_module": "@jupyter-widgets/controls",
      "model_module_version": "1.2.0",
      "model_name": "DescriptionStyleModel",
      "state": {
       "description_width": ""
      }
     },
     "7fda75193eb8426a9b9deb0cdcdd7b60": {
      "model_module": "@jupyter-widgets/controls",
      "model_module_version": "1.2.0",
      "model_name": "DropdownModel",
      "state": {
       "_options_labels": [
        "One",
        "Two",
        "Three"
       ],
       "description": "x",
       "index": 1,
       "layout": "IPY_MODEL_fef80a8481b84f41a760d5ae65648d9d",
       "style": "IPY_MODEL_94a2810cdf9c45bb95a1ffdd94046b26"
      }
     },
     "82da8f310213410a83ce0f9df972103b": {
      "model_module": "@jupyter-widgets/base",
      "model_module_version": "1.0.0",
      "model_name": "LayoutModel",
      "state": {}
     },
     "83a715cb6c624acaa2cd3710695f180e": {
      "model_module": "@jupyter-widgets/base",
      "model_module_version": "1.0.0",
      "model_name": "LayoutModel",
      "state": {}
     },
     "840694a5fef54d92a797338743c49dfd": {
      "model_module": "@jupyter-widgets/base",
      "model_module_version": "1.0.0",
      "model_name": "LayoutModel",
      "state": {}
     },
     "84485febab4548ebb9fbc1edbb2b3624": {
      "model_module": "@jupyter-widgets/output",
      "model_module_version": "1.0.0",
      "model_name": "OutputModel",
      "state": {
       "layout": "IPY_MODEL_3f4d7474d47948488483344039af8e36",
       "outputs": [
        {
         "data": {
          "text/plain": "'3'"
         },
         "metadata": {},
         "output_type": "display_data"
        }
       ]
      }
     },
     "878a4deba2384de98f10b2e19f6f9b97": {
      "model_module": "@jupyter-widgets/controls",
      "model_module_version": "1.2.0",
      "model_name": "DescriptionStyleModel",
      "state": {
       "description_width": ""
      }
     },
     "88b6dd4cdba8437a835d72fd7d7388df": {
      "model_module": "@jupyter-widgets/controls",
      "model_module_version": "1.2.0",
      "model_name": "VBoxModel",
      "state": {
       "_dom_classes": [
        "widget-interact"
       ],
       "children": [
        "IPY_MODEL_98d976f4f191447bb8ae8bd0adb2c139",
        "IPY_MODEL_84485febab4548ebb9fbc1edbb2b3624"
       ],
       "layout": "IPY_MODEL_469d8da3557f4326aa9176d6b9d1d0ad"
      }
     },
     "8b0884525ed3441789bd60cc3295f0b3": {
      "model_module": "@jupyter-widgets/controls",
      "model_module_version": "1.2.0",
      "model_name": "VBoxModel",
      "state": {
       "_dom_classes": [
        "widget-interact"
       ],
       "children": [
        "IPY_MODEL_7d26b489cd98421a981aedf866af1e95"
       ],
       "layout": "IPY_MODEL_0f1c5a61d2da4c85ac28ebd5feb5c413"
      }
     },
     "9188ef3f25834c8098191c96c3a8e2c3": {
      "model_module": "@jupyter-widgets/base",
      "model_module_version": "1.0.0",
      "model_name": "LayoutModel",
      "state": {}
     },
     "94a2810cdf9c45bb95a1ffdd94046b26": {
      "model_module": "@jupyter-widgets/controls",
      "model_module_version": "1.2.0",
      "model_name": "DescriptionStyleModel",
      "state": {
       "description_width": ""
      }
     },
     "94bc188fa22b474da13dee033154a0b9": {
      "model_module": "@jupyter-widgets/base",
      "model_module_version": "1.0.0",
      "model_name": "LayoutModel",
      "state": {}
     },
     "953fe3c44f084c2e9868d0f80d05f6f2": {
      "model_module": "@jupyter-widgets/base",
      "model_module_version": "1.0.0",
      "model_name": "LayoutModel",
      "state": {}
     },
     "961fa633d59e42ccab0777d57286909d": {
      "model_module": "@jupyter-widgets/base",
      "model_module_version": "1.0.0",
      "model_name": "LayoutModel",
      "state": {}
     },
     "98088015b2864db08ce3c86305b339cb": {
      "model_module": "@jupyter-widgets/output",
      "model_module_version": "1.0.0",
      "model_name": "OutputModel",
      "state": {
       "layout": "IPY_MODEL_a1dd1009d50f48c4a9d9bf0e7ec616d0",
       "outputs": [
        {
         "data": {
          "text/plain": "'3'"
         },
         "metadata": {},
         "output_type": "display_data"
        }
       ]
      }
     },
     "98d976f4f191447bb8ae8bd0adb2c139": {
      "model_module": "@jupyter-widgets/controls",
      "model_module_version": "1.2.0",
      "model_name": "DropdownModel",
      "state": {
       "_options_labels": [
        "One",
        "Two",
        "Three"
       ],
       "description": "x",
       "index": 2,
       "layout": "IPY_MODEL_1a04f906b90448d3af41e7fef1ca07dd",
       "style": "IPY_MODEL_37b1c7f7a26b47f584e6ff62a3a4e980"
      }
     },
     "9a545229e8d0426ba604ad09f24c6006": {
      "model_module": "@jupyter-widgets/controls",
      "model_module_version": "1.2.0",
      "model_name": "VBoxModel",
      "state": {
       "_dom_classes": [
        "widget-interact"
       ],
       "children": [
        "IPY_MODEL_50fda371c6c54161ab939a98977444b4"
       ],
       "layout": "IPY_MODEL_76cd1d8ecd774c5990cacd4c1eaa35a5"
      }
     },
     "9c0c3980bfab4e18995dd65e2970cb37": {
      "model_module": "@jupyter-widgets/controls",
      "model_module_version": "1.2.0",
      "model_name": "VBoxModel",
      "state": {
       "_dom_classes": [
        "widget-interact"
       ],
       "children": [
        "IPY_MODEL_c8d1a7a324444263b9cc83e7d03b5269",
        "IPY_MODEL_3d9f34144ac8453d8180d18f0a2221b4"
       ],
       "layout": "IPY_MODEL_25b9ffb3a0344a9b92c7aa1972488665"
      }
     },
     "9c23693ad7fc456aa2c2a4215cff2bcd": {
      "model_module": "@jupyter-widgets/base",
      "model_module_version": "1.0.0",
      "model_name": "LayoutModel",
      "state": {}
     },
     "9cffde90d83f49a78e12e8be17732251": {
      "model_module": "@jupyter-widgets/controls",
      "model_module_version": "1.2.0",
      "model_name": "DescriptionStyleModel",
      "state": {
       "description_width": ""
      }
     },
     "9da083db57f5498eab45bca4a2724397": {
      "model_module": "@jupyter-widgets/controls",
      "model_module_version": "1.2.0",
      "model_name": "VBoxModel",
      "state": {
       "_dom_classes": [
        "widget-interact"
       ],
       "children": [
        "IPY_MODEL_1161c90c843b4d44bdb6dbcc3bcb75a9"
       ],
       "layout": "IPY_MODEL_27caa35c2a1343abb06d1489a0aef01e"
      }
     },
     "9f9c04846d584621afa683195d0e3529": {
      "model_module": "@jupyter-widgets/base",
      "model_module_version": "1.0.0",
      "model_name": "LayoutModel",
      "state": {}
     },
     "a1dd1009d50f48c4a9d9bf0e7ec616d0": {
      "model_module": "@jupyter-widgets/base",
      "model_module_version": "1.0.0",
      "model_name": "LayoutModel",
      "state": {}
     },
     "a829efd1d4674b5ab839d0e7423af212": {
      "model_module": "@jupyter-widgets/controls",
      "model_module_version": "1.2.0",
      "model_name": "DescriptionStyleModel",
      "state": {
       "description_width": ""
      }
     },
     "a832858af6454b32ad15f2e324d475ea": {
      "model_module": "@jupyter-widgets/base",
      "model_module_version": "1.0.0",
      "model_name": "LayoutModel",
      "state": {}
     },
     "adc732f56e27430297ef06e20a9b1fbd": {
      "model_module": "@jupyter-widgets/controls",
      "model_module_version": "1.2.0",
      "model_name": "DescriptionStyleModel",
      "state": {
       "description_width": ""
      }
     },
     "b074228676f1415eab220e5d254d87a7": {
      "model_module": "@jupyter-widgets/controls",
      "model_module_version": "1.2.0",
      "model_name": "DescriptionStyleModel",
      "state": {
       "description_width": ""
      }
     },
     "b4477354113344f886a6dd065e8ef4fe": {
      "model_module": "@jupyter-widgets/base",
      "model_module_version": "1.0.0",
      "model_name": "LayoutModel",
      "state": {}
     },
     "b58aea8edfa94590ae754402f598394f": {
      "model_module": "@jupyter-widgets/controls",
      "model_module_version": "1.2.0",
      "model_name": "DropdownModel",
      "state": {
       "_options_labels": [
        "One",
        "Two",
        "Three"
       ],
       "description": "x",
       "index": 0,
       "layout": "IPY_MODEL_953fe3c44f084c2e9868d0f80d05f6f2",
       "style": "IPY_MODEL_7f52767641f74359953800c2f8dd7a56"
      }
     },
     "b66c8383e4df4000b1f3c8a33f044425": {
      "model_module": "@jupyter-widgets/base",
      "model_module_version": "1.0.0",
      "model_name": "LayoutModel",
      "state": {}
     },
     "b72204631cfc457b946b8de06fe14fe0": {
      "model_module": "@jupyter-widgets/controls",
      "model_module_version": "1.2.0",
      "model_name": "DropdownModel",
      "state": {
       "_options_labels": [
        "One",
        "Two",
        "Three"
       ],
       "description": "Number:",
       "index": 1,
       "layout": "IPY_MODEL_5a166b8cc77b4ade9463d5298bfd9293",
       "style": "IPY_MODEL_312557325c914f26a883652454ec4ede"
      }
     },
     "bb124725ca9449dda48471e00802d0b7": {
      "model_module": "@jupyter-widgets/controls",
      "model_module_version": "1.2.0",
      "model_name": "DropdownModel",
      "state": {
       "_options_labels": [
        "One",
        "Two",
        "Three"
       ],
       "description": "x",
       "index": 1,
       "layout": "IPY_MODEL_0bb84e3398884a19871a8a4eb8b8e0f4",
       "style": "IPY_MODEL_2a79a672a8824490adf895ada35162a1"
      }
     },
     "bdba753df07945f0b932452a40474d52": {
      "model_module": "@jupyter-widgets/output",
      "model_module_version": "1.0.0",
      "model_name": "OutputModel",
      "state": {
       "layout": "IPY_MODEL_b4477354113344f886a6dd065e8ef4fe",
       "outputs": [
        {
         "name": "stdout",
         "output_type": "stream",
         "text": "1\n"
        }
       ]
      }
     },
     "c2082588086749a7b8a2aff9a1f1cb4c": {
      "model_module": "@jupyter-widgets/output",
      "model_module_version": "1.0.0",
      "model_name": "OutputModel",
      "state": {
       "layout": "IPY_MODEL_d1768d800f7149dba0bd49450e1d423f",
       "outputs": [
        {
         "name": "stdout",
         "output_type": "stream",
         "text": "2\n"
        }
       ]
      }
     },
     "c42836afc6574c39845f50d5b039261b": {
      "model_module": "@jupyter-widgets/output",
      "model_module_version": "1.0.0",
      "model_name": "OutputModel",
      "state": {
       "layout": "IPY_MODEL_2d600548b7c44d0bb10b6273c4a32056",
       "outputs": [
        {
         "ename": "IndexError",
         "evalue": "tuple index out of range",
         "output_type": "error",
         "traceback": [
          "\u001b[1;31m---------------------------------------------------------------------------\u001b[0m",
          "\u001b[1;31mIndexError\u001b[0m                                Traceback (most recent call last)",
          "\u001b[1;32mc:\\python362\\lib\\site-packages\\ipywidgets\\widgets\\interaction.py\u001b[0m in \u001b[0;36mupdate\u001b[1;34m(self, *args)\u001b[0m\n\u001b[0;32m    249\u001b[0m                     \u001b[0mvalue\u001b[0m \u001b[1;33m=\u001b[0m \u001b[0mwidget\u001b[0m\u001b[1;33m.\u001b[0m\u001b[0mget_interact_value\u001b[0m\u001b[1;33m(\u001b[0m\u001b[1;33m)\u001b[0m\u001b[1;33m\u001b[0m\u001b[0m\n\u001b[0;32m    250\u001b[0m                     \u001b[0mself\u001b[0m\u001b[1;33m.\u001b[0m\u001b[0mkwargs\u001b[0m\u001b[1;33m[\u001b[0m\u001b[0mwidget\u001b[0m\u001b[1;33m.\u001b[0m\u001b[0m_kwarg\u001b[0m\u001b[1;33m]\u001b[0m \u001b[1;33m=\u001b[0m \u001b[0mvalue\u001b[0m\u001b[1;33m\u001b[0m\u001b[0m\n\u001b[1;32m--> 251\u001b[1;33m                 \u001b[0mself\u001b[0m\u001b[1;33m.\u001b[0m\u001b[0mresult\u001b[0m \u001b[1;33m=\u001b[0m \u001b[0mself\u001b[0m\u001b[1;33m.\u001b[0m\u001b[0mf\u001b[0m\u001b[1;33m(\u001b[0m\u001b[1;33m**\u001b[0m\u001b[0mself\u001b[0m\u001b[1;33m.\u001b[0m\u001b[0mkwargs\u001b[0m\u001b[1;33m)\u001b[0m\u001b[1;33m\u001b[0m\u001b[0m\n\u001b[0m\u001b[0;32m    252\u001b[0m                 \u001b[0mshow_inline_matplotlib_plots\u001b[0m\u001b[1;33m(\u001b[0m\u001b[1;33m)\u001b[0m\u001b[1;33m\u001b[0m\u001b[0m\n\u001b[0;32m    253\u001b[0m                 \u001b[1;32mif\u001b[0m \u001b[0mself\u001b[0m\u001b[1;33m.\u001b[0m\u001b[0mauto_display\u001b[0m \u001b[1;32mand\u001b[0m \u001b[0mself\u001b[0m\u001b[1;33m.\u001b[0m\u001b[0mresult\u001b[0m \u001b[1;32mis\u001b[0m \u001b[1;32mnot\u001b[0m \u001b[1;32mNone\u001b[0m\u001b[1;33m:\u001b[0m\u001b[1;33m\u001b[0m\u001b[0m\n",
          "\u001b[1;32m<ipython-input-39-bd7008920aef>\u001b[0m in \u001b[0;36mfunction\u001b[1;34m(x)\u001b[0m\n\u001b[0;32m      1\u001b[0m \u001b[1;32mdef\u001b[0m \u001b[0mfunction\u001b[0m\u001b[1;33m(\u001b[0m\u001b[0mx\u001b[0m\u001b[1;33m)\u001b[0m\u001b[1;33m:\u001b[0m\u001b[1;33m\u001b[0m\u001b[0m\n\u001b[1;32m----> 2\u001b[1;33m     \u001b[1;32mreturn\u001b[0m \u001b[1;34m\"{1}\"\u001b[0m\u001b[1;33m.\u001b[0m\u001b[0mformat\u001b[0m\u001b[1;33m(\u001b[0m\u001b[0mx\u001b[0m\u001b[1;33m)\u001b[0m\u001b[1;33m\u001b[0m\u001b[0m\n\u001b[0m\u001b[0;32m      3\u001b[0m \u001b[1;33m\u001b[0m\u001b[0m\n\u001b[0;32m      4\u001b[0m \u001b[0mwdg\u001b[0m \u001b[1;33m=\u001b[0m \u001b[0mwidgets\u001b[0m\u001b[1;33m.\u001b[0m\u001b[0minteract\u001b[0m\u001b[1;33m(\u001b[0m\u001b[0mfunction\u001b[0m\u001b[1;33m,\u001b[0m \u001b[0mx\u001b[0m\u001b[1;33m=\u001b[0m\u001b[1;33m{\u001b[0m\u001b[1;34m'One'\u001b[0m\u001b[1;33m:\u001b[0m \u001b[1;36m1\u001b[0m\u001b[1;33m,\u001b[0m \u001b[1;34m'Two'\u001b[0m\u001b[1;33m:\u001b[0m \u001b[1;36m2\u001b[0m\u001b[1;33m,\u001b[0m \u001b[1;34m'Three'\u001b[0m\u001b[1;33m:\u001b[0m \u001b[1;36m3\u001b[0m\u001b[1;33m}\u001b[0m\u001b[1;33m)\u001b[0m\u001b[1;33m\u001b[0m\u001b[0m\n",
          "\u001b[1;31mIndexError\u001b[0m: tuple index out of range"
         ]
        }
       ]
      }
     },
     "c435d2d553a8459ba85eab75c215fdc6": {
      "model_module": "@jupyter-widgets/base",
      "model_module_version": "1.0.0",
      "model_name": "LayoutModel",
      "state": {}
     },
     "c694ca2b833b4472b3aeaa81f5162488": {
      "model_module": "@jupyter-widgets/base",
      "model_module_version": "1.0.0",
      "model_name": "LayoutModel",
      "state": {}
     },
     "c6c423da7856432dbf88e6529dbaa776": {
      "model_module": "@jupyter-widgets/controls",
      "model_module_version": "1.2.0",
      "model_name": "VBoxModel",
      "state": {
       "_dom_classes": [
        "widget-interact"
       ],
       "children": [
        "IPY_MODEL_c2082588086749a7b8a2aff9a1f1cb4c"
       ],
       "layout": "IPY_MODEL_5bab5e5fae9c4d90bf3ca6f2a42cffbf"
      }
     },
     "c700027903244b6d8b45e9056e18d0aa": {
      "model_module": "@jupyter-widgets/output",
      "model_module_version": "1.0.0",
      "model_name": "OutputModel",
      "state": {
       "layout": "IPY_MODEL_9f9c04846d584621afa683195d0e3529",
       "outputs": [
        {
         "data": {
          "text/plain": "'2'"
         },
         "metadata": {},
         "output_type": "display_data"
        }
       ]
      }
     },
     "c8d1a7a324444263b9cc83e7d03b5269": {
      "model_module": "@jupyter-widgets/controls",
      "model_module_version": "1.2.0",
      "model_name": "DropdownModel",
      "state": {
       "_options_labels": [
        "One",
        "Two",
        "Three"
       ],
       "description": "x",
       "index": 0,
       "layout": "IPY_MODEL_5e9203659ea34796975371217129e831",
       "style": "IPY_MODEL_3575b828b54d48e299d7aba9180c668e"
      }
     },
     "c9e9d7d3c4444763890bf22f17fbfc85": {
      "model_module": "@jupyter-widgets/controls",
      "model_module_version": "1.2.0",
      "model_name": "DescriptionStyleModel",
      "state": {
       "description_width": ""
      }
     },
     "cade9c6ce4124f4281d36984a6c4e754": {
      "model_module": "@jupyter-widgets/base",
      "model_module_version": "1.0.0",
      "model_name": "LayoutModel",
      "state": {}
     },
     "cb12b376335d401abeb2b50b8915502e": {
      "model_module": "@jupyter-widgets/base",
      "model_module_version": "1.0.0",
      "model_name": "LayoutModel",
      "state": {}
     },
     "ce87ad7387344296ba478e08a794d8bf": {
      "model_module": "@jupyter-widgets/controls",
      "model_module_version": "1.2.0",
      "model_name": "VBoxModel",
      "state": {
       "_dom_classes": [
        "widget-interact"
       ],
       "children": [
        "IPY_MODEL_bb124725ca9449dda48471e00802d0b7",
        "IPY_MODEL_e3555ce484b84ed58c0d3af5e5d95532"
       ],
       "layout": "IPY_MODEL_568e221ead12466aa75fe3c3b3744789"
      }
     },
     "cfcb767129484a4886e7d978cbdd59b4": {
      "model_module": "@jupyter-widgets/output",
      "model_module_version": "1.0.0",
      "model_name": "OutputModel",
      "state": {
       "layout": "IPY_MODEL_d34457d1276a4921b9037ec2404fade8",
       "outputs": [
        {
         "ename": "TypeError",
         "evalue": "'Dropdown' object is not callable",
         "output_type": "error",
         "traceback": [
          "\u001b[1;31m---------------------------------------------------------------------------\u001b[0m",
          "\u001b[1;31mTypeError\u001b[0m                                 Traceback (most recent call last)",
          "\u001b[1;32mc:\\python362\\lib\\site-packages\\ipywidgets\\widgets\\interaction.py\u001b[0m in \u001b[0;36mupdate\u001b[1;34m(self, *args)\u001b[0m\n\u001b[0;32m    249\u001b[0m                     \u001b[0mvalue\u001b[0m \u001b[1;33m=\u001b[0m \u001b[0mwidget\u001b[0m\u001b[1;33m.\u001b[0m\u001b[0mget_interact_value\u001b[0m\u001b[1;33m(\u001b[0m\u001b[1;33m)\u001b[0m\u001b[1;33m\u001b[0m\u001b[0m\n\u001b[0;32m    250\u001b[0m                     \u001b[0mself\u001b[0m\u001b[1;33m.\u001b[0m\u001b[0mkwargs\u001b[0m\u001b[1;33m[\u001b[0m\u001b[0mwidget\u001b[0m\u001b[1;33m.\u001b[0m\u001b[0m_kwarg\u001b[0m\u001b[1;33m]\u001b[0m \u001b[1;33m=\u001b[0m \u001b[0mvalue\u001b[0m\u001b[1;33m\u001b[0m\u001b[0m\n\u001b[1;32m--> 251\u001b[1;33m                 \u001b[0mself\u001b[0m\u001b[1;33m.\u001b[0m\u001b[0mresult\u001b[0m \u001b[1;33m=\u001b[0m \u001b[0mself\u001b[0m\u001b[1;33m.\u001b[0m\u001b[0mf\u001b[0m\u001b[1;33m(\u001b[0m\u001b[1;33m**\u001b[0m\u001b[0mself\u001b[0m\u001b[1;33m.\u001b[0m\u001b[0mkwargs\u001b[0m\u001b[1;33m)\u001b[0m\u001b[1;33m\u001b[0m\u001b[0m\n\u001b[0m\u001b[0;32m    252\u001b[0m                 \u001b[0mshow_inline_matplotlib_plots\u001b[0m\u001b[1;33m(\u001b[0m\u001b[1;33m)\u001b[0m\u001b[1;33m\u001b[0m\u001b[0m\n\u001b[0;32m    253\u001b[0m                 \u001b[1;32mif\u001b[0m \u001b[0mself\u001b[0m\u001b[1;33m.\u001b[0m\u001b[0mauto_display\u001b[0m \u001b[1;32mand\u001b[0m \u001b[0mself\u001b[0m\u001b[1;33m.\u001b[0m\u001b[0mresult\u001b[0m \u001b[1;32mis\u001b[0m \u001b[1;32mnot\u001b[0m \u001b[1;32mNone\u001b[0m\u001b[1;33m:\u001b[0m\u001b[1;33m\u001b[0m\u001b[0m\n",
          "\u001b[1;31mTypeError\u001b[0m: 'Dropdown' object is not callable"
         ]
        }
       ]
      }
     },
     "d1768d800f7149dba0bd49450e1d423f": {
      "model_module": "@jupyter-widgets/base",
      "model_module_version": "1.0.0",
      "model_name": "LayoutModel",
      "state": {}
     },
     "d34457d1276a4921b9037ec2404fade8": {
      "model_module": "@jupyter-widgets/base",
      "model_module_version": "1.0.0",
      "model_name": "LayoutModel",
      "state": {}
     },
     "d6ee3c71fcc9409a916ee3ffa405c602": {
      "model_module": "@jupyter-widgets/base",
      "model_module_version": "1.0.0",
      "model_name": "LayoutModel",
      "state": {}
     },
     "dc86396c53aa4ff9acb2f92b033dadae": {
      "model_module": "@jupyter-widgets/controls",
      "model_module_version": "1.2.0",
      "model_name": "DropdownModel",
      "state": {
       "_options_labels": [
        "One",
        "Two",
        "Three"
       ],
       "description": "Number:",
       "index": 1,
       "layout": "IPY_MODEL_840694a5fef54d92a797338743c49dfd",
       "style": "IPY_MODEL_41200abc15f044f39b397c9eb074e533"
      }
     },
     "def22dc5ae8443e784290f49e64674fd": {
      "model_module": "@jupyter-widgets/base",
      "model_module_version": "1.0.0",
      "model_name": "LayoutModel",
      "state": {}
     },
     "e3555ce484b84ed58c0d3af5e5d95532": {
      "model_module": "@jupyter-widgets/output",
      "model_module_version": "1.0.0",
      "model_name": "OutputModel",
      "state": {
       "layout": "IPY_MODEL_371f4aac93ba469786a7c8525b184bc8",
       "outputs": [
        {
         "ename": "AttributeError",
         "evalue": "'function' object has no attribute 'value'",
         "output_type": "error",
         "traceback": [
          "\u001b[1;31m---------------------------------------------------------------------------\u001b[0m",
          "\u001b[1;31mAttributeError\u001b[0m                            Traceback (most recent call last)",
          "\u001b[1;32mc:\\python362\\lib\\site-packages\\ipywidgets\\widgets\\interaction.py\u001b[0m in \u001b[0;36mupdate\u001b[1;34m(self, *args)\u001b[0m\n\u001b[0;32m    249\u001b[0m                     \u001b[0mvalue\u001b[0m \u001b[1;33m=\u001b[0m \u001b[0mwidget\u001b[0m\u001b[1;33m.\u001b[0m\u001b[0mget_interact_value\u001b[0m\u001b[1;33m(\u001b[0m\u001b[1;33m)\u001b[0m\u001b[1;33m\u001b[0m\u001b[0m\n\u001b[0;32m    250\u001b[0m                     \u001b[0mself\u001b[0m\u001b[1;33m.\u001b[0m\u001b[0mkwargs\u001b[0m\u001b[1;33m[\u001b[0m\u001b[0mwidget\u001b[0m\u001b[1;33m.\u001b[0m\u001b[0m_kwarg\u001b[0m\u001b[1;33m]\u001b[0m \u001b[1;33m=\u001b[0m \u001b[0mvalue\u001b[0m\u001b[1;33m\u001b[0m\u001b[0m\n\u001b[1;32m--> 251\u001b[1;33m                 \u001b[0mself\u001b[0m\u001b[1;33m.\u001b[0m\u001b[0mresult\u001b[0m \u001b[1;33m=\u001b[0m \u001b[0mself\u001b[0m\u001b[1;33m.\u001b[0m\u001b[0mf\u001b[0m\u001b[1;33m(\u001b[0m\u001b[1;33m**\u001b[0m\u001b[0mself\u001b[0m\u001b[1;33m.\u001b[0m\u001b[0mkwargs\u001b[0m\u001b[1;33m)\u001b[0m\u001b[1;33m\u001b[0m\u001b[0m\n\u001b[0m\u001b[0;32m    252\u001b[0m                 \u001b[0mshow_inline_matplotlib_plots\u001b[0m\u001b[1;33m(\u001b[0m\u001b[1;33m)\u001b[0m\u001b[1;33m\u001b[0m\u001b[0m\n\u001b[0;32m    253\u001b[0m                 \u001b[1;32mif\u001b[0m \u001b[0mself\u001b[0m\u001b[1;33m.\u001b[0m\u001b[0mauto_display\u001b[0m \u001b[1;32mand\u001b[0m \u001b[0mself\u001b[0m\u001b[1;33m.\u001b[0m\u001b[0mresult\u001b[0m \u001b[1;32mis\u001b[0m \u001b[1;32mnot\u001b[0m \u001b[1;32mNone\u001b[0m\u001b[1;33m:\u001b[0m\u001b[1;33m\u001b[0m\u001b[0m\n",
          "\u001b[1;32m<ipython-input-34-87415fba655d>\u001b[0m in \u001b[0;36mfunction\u001b[1;34m(x)\u001b[0m\n\u001b[0;32m      1\u001b[0m \u001b[1;32mdef\u001b[0m \u001b[0mfunction\u001b[0m\u001b[1;33m(\u001b[0m\u001b[0mx\u001b[0m\u001b[1;33m)\u001b[0m\u001b[1;33m:\u001b[0m\u001b[1;33m\u001b[0m\u001b[0m\n\u001b[1;32m----> 2\u001b[1;33m     \u001b[0mprint\u001b[0m \u001b[1;33m(\u001b[0m\u001b[0mwdg\u001b[0m\u001b[1;33m.\u001b[0m\u001b[0mvalue\u001b[0m\u001b[1;33m)\u001b[0m\u001b[1;33m\u001b[0m\u001b[0m\n\u001b[0m\u001b[0;32m      3\u001b[0m \u001b[1;33m\u001b[0m\u001b[0m\n\u001b[0;32m      4\u001b[0m \u001b[0mwidgets\u001b[0m\u001b[1;33m.\u001b[0m\u001b[0minteract\u001b[0m\u001b[1;33m(\u001b[0m\u001b[0mfunction\u001b[0m\u001b[1;33m,\u001b[0m \u001b[0mx\u001b[0m\u001b[1;33m=\u001b[0m\u001b[1;33m{\u001b[0m\u001b[1;34m'One'\u001b[0m\u001b[1;33m:\u001b[0m \u001b[1;36m1\u001b[0m\u001b[1;33m,\u001b[0m \u001b[1;34m'Two'\u001b[0m\u001b[1;33m:\u001b[0m \u001b[1;36m2\u001b[0m\u001b[1;33m,\u001b[0m \u001b[1;34m'Three'\u001b[0m\u001b[1;33m:\u001b[0m \u001b[1;36m3\u001b[0m\u001b[1;33m}\u001b[0m\u001b[1;33m)\u001b[0m\u001b[1;33m\u001b[0m\u001b[0m\n",
          "\u001b[1;31mAttributeError\u001b[0m: 'function' object has no attribute 'value'"
         ]
        }
       ]
      }
     },
     "e72eff438eee45a8b9f9db98f175e383": {
      "model_module": "@jupyter-widgets/controls",
      "model_module_version": "1.2.0",
      "model_name": "DescriptionStyleModel",
      "state": {
       "description_width": ""
      }
     },
     "e778457e69414e10b597a3fb6d1ccd14": {
      "model_module": "@jupyter-widgets/controls",
      "model_module_version": "1.2.0",
      "model_name": "DescriptionStyleModel",
      "state": {
       "description_width": ""
      }
     },
     "ec826a2ca45c47c9a4522c4528253ae7": {
      "model_module": "@jupyter-widgets/base",
      "model_module_version": "1.0.0",
      "model_name": "LayoutModel",
      "state": {}
     },
     "ed3fb0bbafde44539e82a09fb5438aa6": {
      "model_module": "@jupyter-widgets/base",
      "model_module_version": "1.0.0",
      "model_name": "LayoutModel",
      "state": {}
     },
     "eee9118a786b4709be08604ad5ad0907": {
      "model_module": "@jupyter-widgets/controls",
      "model_module_version": "1.2.0",
      "model_name": "VBoxModel",
      "state": {
       "_dom_classes": [
        "widget-interact"
       ],
       "children": [
        "IPY_MODEL_bdba753df07945f0b932452a40474d52"
       ],
       "layout": "IPY_MODEL_09dc4103190e454a829d2853a2b60440"
      }
     },
     "f0ba185bd99949a7b68b234ba85515fb": {
      "model_module": "@jupyter-widgets/controls",
      "model_module_version": "1.2.0",
      "model_name": "DescriptionStyleModel",
      "state": {
       "description_width": ""
      }
     },
     "f2009369f5304ee0b356618e309bbb90": {
      "model_module": "@jupyter-widgets/controls",
      "model_module_version": "1.2.0",
      "model_name": "DropdownModel",
      "state": {
       "_options_labels": [
        "One",
        "Two",
        "Three"
       ],
       "description": "Number:",
       "index": 0,
       "layout": "IPY_MODEL_1cbeebadcd5842de8cb98f7b704689f0",
       "style": "IPY_MODEL_f0ba185bd99949a7b68b234ba85515fb"
      }
     },
     "f605c8c846d74a959549b903897867b1": {
      "model_module": "@jupyter-widgets/controls",
      "model_module_version": "1.2.0",
      "model_name": "DropdownModel",
      "state": {
       "_options_labels": [
        "One",
        "Two",
        "Three"
       ],
       "description": "Number:",
       "index": 2,
       "layout": "IPY_MODEL_f9e61f0d18634f38b526853756ff8896",
       "style": "IPY_MODEL_e778457e69414e10b597a3fb6d1ccd14"
      }
     },
     "f6acc630add046a1ac081a5f1d3f3fdf": {
      "model_module": "@jupyter-widgets/controls",
      "model_module_version": "1.2.0",
      "model_name": "VBoxModel",
      "state": {
       "_dom_classes": [
        "widget-interact"
       ],
       "children": [
        "IPY_MODEL_69a34532509a42e8b050b3a79c4e9bd9",
        "IPY_MODEL_fbf24a2a65d4418aa7bdb5971ad190ad"
       ],
       "layout": "IPY_MODEL_def22dc5ae8443e784290f49e64674fd"
      }
     },
     "f9e61f0d18634f38b526853756ff8896": {
      "model_module": "@jupyter-widgets/base",
      "model_module_version": "1.0.0",
      "model_name": "LayoutModel",
      "state": {}
     },
     "fbf24a2a65d4418aa7bdb5971ad190ad": {
      "model_module": "@jupyter-widgets/output",
      "model_module_version": "1.0.0",
      "model_name": "OutputModel",
      "state": {
       "layout": "IPY_MODEL_c694ca2b833b4472b3aeaa81f5162488",
       "outputs": [
        {
         "ename": "AttributeError",
         "evalue": "'function' object has no attribute 'value'",
         "output_type": "error",
         "traceback": [
          "\u001b[1;31m---------------------------------------------------------------------------\u001b[0m",
          "\u001b[1;31mAttributeError\u001b[0m                            Traceback (most recent call last)",
          "\u001b[1;32mc:\\python362\\lib\\site-packages\\ipywidgets\\widgets\\interaction.py\u001b[0m in \u001b[0;36mupdate\u001b[1;34m(self, *args)\u001b[0m\n\u001b[0;32m    249\u001b[0m                     \u001b[0mvalue\u001b[0m \u001b[1;33m=\u001b[0m \u001b[0mwidget\u001b[0m\u001b[1;33m.\u001b[0m\u001b[0mget_interact_value\u001b[0m\u001b[1;33m(\u001b[0m\u001b[1;33m)\u001b[0m\u001b[1;33m\u001b[0m\u001b[0m\n\u001b[0;32m    250\u001b[0m                     \u001b[0mself\u001b[0m\u001b[1;33m.\u001b[0m\u001b[0mkwargs\u001b[0m\u001b[1;33m[\u001b[0m\u001b[0mwidget\u001b[0m\u001b[1;33m.\u001b[0m\u001b[0m_kwarg\u001b[0m\u001b[1;33m]\u001b[0m \u001b[1;33m=\u001b[0m \u001b[0mvalue\u001b[0m\u001b[1;33m\u001b[0m\u001b[0m\n\u001b[1;32m--> 251\u001b[1;33m                 \u001b[0mself\u001b[0m\u001b[1;33m.\u001b[0m\u001b[0mresult\u001b[0m \u001b[1;33m=\u001b[0m \u001b[0mself\u001b[0m\u001b[1;33m.\u001b[0m\u001b[0mf\u001b[0m\u001b[1;33m(\u001b[0m\u001b[1;33m**\u001b[0m\u001b[0mself\u001b[0m\u001b[1;33m.\u001b[0m\u001b[0mkwargs\u001b[0m\u001b[1;33m)\u001b[0m\u001b[1;33m\u001b[0m\u001b[0m\n\u001b[0m\u001b[0;32m    252\u001b[0m                 \u001b[0mshow_inline_matplotlib_plots\u001b[0m\u001b[1;33m(\u001b[0m\u001b[1;33m)\u001b[0m\u001b[1;33m\u001b[0m\u001b[0m\n\u001b[0;32m    253\u001b[0m                 \u001b[1;32mif\u001b[0m \u001b[0mself\u001b[0m\u001b[1;33m.\u001b[0m\u001b[0mauto_display\u001b[0m \u001b[1;32mand\u001b[0m \u001b[0mself\u001b[0m\u001b[1;33m.\u001b[0m\u001b[0mresult\u001b[0m \u001b[1;32mis\u001b[0m \u001b[1;32mnot\u001b[0m \u001b[1;32mNone\u001b[0m\u001b[1;33m:\u001b[0m\u001b[1;33m\u001b[0m\u001b[0m\n",
          "\u001b[1;32m<ipython-input-35-ffd1fcd4a569>\u001b[0m in \u001b[0;36mfunction\u001b[1;34m(x)\u001b[0m\n\u001b[0;32m      1\u001b[0m \u001b[1;32mdef\u001b[0m \u001b[0mfunction\u001b[0m\u001b[1;33m(\u001b[0m\u001b[0mx\u001b[0m\u001b[1;33m)\u001b[0m\u001b[1;33m:\u001b[0m\u001b[1;33m\u001b[0m\u001b[0m\n\u001b[1;32m----> 2\u001b[1;33m     \u001b[0mprint\u001b[0m \u001b[1;33m(\u001b[0m\u001b[0mwdg\u001b[0m\u001b[1;33m.\u001b[0m\u001b[0mvalue\u001b[0m\u001b[1;33m)\u001b[0m\u001b[1;33m\u001b[0m\u001b[0m\n\u001b[0m\u001b[0;32m      3\u001b[0m \u001b[1;33m\u001b[0m\u001b[0m\n\u001b[0;32m      4\u001b[0m \u001b[0mwdg\u001b[0m \u001b[1;33m=\u001b[0m \u001b[0mwidgets\u001b[0m\u001b[1;33m.\u001b[0m\u001b[0minteract\u001b[0m\u001b[1;33m(\u001b[0m\u001b[0mfunction\u001b[0m\u001b[1;33m,\u001b[0m \u001b[0mx\u001b[0m\u001b[1;33m=\u001b[0m\u001b[1;33m{\u001b[0m\u001b[1;34m'One'\u001b[0m\u001b[1;33m:\u001b[0m \u001b[1;36m1\u001b[0m\u001b[1;33m,\u001b[0m \u001b[1;34m'Two'\u001b[0m\u001b[1;33m:\u001b[0m \u001b[1;36m2\u001b[0m\u001b[1;33m,\u001b[0m \u001b[1;34m'Three'\u001b[0m\u001b[1;33m:\u001b[0m \u001b[1;36m3\u001b[0m\u001b[1;33m}\u001b[0m\u001b[1;33m)\u001b[0m\u001b[1;33m\u001b[0m\u001b[0m\n",
          "\u001b[1;31mAttributeError\u001b[0m: 'function' object has no attribute 'value'"
         ]
        }
       ]
      }
     },
     "fc37ab3399254d5e87680a6dd16e1078": {
      "model_module": "@jupyter-widgets/base",
      "model_module_version": "1.0.0",
      "model_name": "LayoutModel",
      "state": {}
     },
     "feef0f59f77d4e0298cc96688932c805": {
      "model_module": "@jupyter-widgets/controls",
      "model_module_version": "1.2.0",
      "model_name": "VBoxModel",
      "state": {
       "_dom_classes": [
        "widget-interact"
       ],
       "children": [
        "IPY_MODEL_247caea5292a46c89a71d6fae1f22241",
        "IPY_MODEL_c42836afc6574c39845f50d5b039261b"
       ],
       "layout": "IPY_MODEL_b66c8383e4df4000b1f3c8a33f044425"
      }
     },
     "fef80a8481b84f41a760d5ae65648d9d": {
      "model_module": "@jupyter-widgets/base",
      "model_module_version": "1.0.0",
      "model_name": "LayoutModel",
      "state": {}
     }
    },
    "version_major": 2,
    "version_minor": 0
   }
  }
 },
 "nbformat": 4,
 "nbformat_minor": 2
}
