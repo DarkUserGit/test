{
 "cells": [
  {
   "cell_type": "raw",
   "metadata": {},
   "source": [
    "<script>\n",
    "  function code_toggle() {\n",
    "    if (code_shown){\n",
    "      $('div.input').hide('500');\n",
    "      $('#toggleButton').val('Show Code')\n",
    "    } else {\n",
    "      $('div.input').show('500');\n",
    "      $('#toggleButton').val('Hide Code')\n",
    "    }\n",
    "    code_shown = !code_shown\n",
    "  }\n",
    "\n",
    "  $( document ).ready(function(){\n",
    "    code_shown=false;\n",
    "    $('div.input').hide()\n",
    "  });\n",
    "</script>\n",
    "<form action=\"javascript:code_toggle()\"><input type=\"submit\" id=\"toggleButton\" value=\"Show Code\"></form>"
   ]
  },
  {
   "cell_type": "markdown",
   "metadata": {},
   "source": [
    "<link rel=\"stylesheet\" href=\"../../styles/theme_style.css\">\n",
    "<!--link rel=\"stylesheet\" href=\"../../styles/header_style.css\"-->\n",
    "<link rel=\"stylesheet\" href=\"https://cdnjs.cloudflare.com/ajax/libs/font-awesome/4.7.0/css/font-awesome.min.css\">\n",
    "\n",
    "<table width=\"100%\">\n",
    "    <tr>\n",
    "        <td id=\"image_td\" width=\"15%\" class=\"header_image_1\"><img id=\"image_img\" width=\"60%\" src=\"../../images/icons/Open.png\"></td>\n",
    "        <!-- Available classes for \"image_td\" element:\n",
    "        - header_image_1 (For Notebooks of \"Open\" Area);\n",
    "        - header_image_2 (For Notebooks of \"Acquire\" Area);\n",
    "        - header_image_3 (For Notebooks of \"Visualise\" Area);\n",
    "        - header_image_4 (For Notebooks of \"Process\" Area);\n",
    "        - header_image_5 (For Notebooks of \"Detect\" Area);\n",
    "        - header_image_6 (For Notebooks of \"Extract\" Area);\n",
    "        - header_image_7 (For Notebooks of \"Decide\" Area);\n",
    "        - header_image_8 (For Notebooks of \"Explain\" Area);\n",
    "\n",
    "        Available icons for \"image_img\" element:\n",
    "        - Open.png (For Notebooks of \"Open\" Area);\n",
    "        - Acquisition.png (For Notebooks of \"Acquire\" Area);\n",
    "        - Visualise.png (For Notebooks of \"Visualise\" Area);\n",
    "        - Process.png (For Notebooks of \"Process\" Area);\n",
    "        - Detect.png (For Notebooks of \"Detect\" Area);\n",
    "        - Extract.png (For Notebooks of \"Extract\" Area);\n",
    "        - Decide.png (For Notebooks of \"Decide\" Area);\n",
    "        - Explain.png (For Notebooks of \"Explain\" Area);-->\n",
    "        <td class=\"header_text\"> Load the acquired data from .txt file </td>\n",
    "    </tr>\n",
    "</table>"
   ]
  },
  {
   "cell_type": "markdown",
   "metadata": {},
   "source": [
    "**Difficulty Level:** <span class=\"fa fa-star checked\"></span>\n",
    "<span class=\"fa fa-star\"></span>\n",
    "<span class=\"fa fa-star\"></span>\n",
    "<span class=\"fa fa-star\"></span>\n",
    "<span class=\"fa fa-star\"></span>"
   ]
  },
  {
   "cell_type": "markdown",
   "metadata": {},
   "source": [
    "A text file is one of the simplest means to store information, being a format outputed by **<span style=\"color:#009EE3\">OpenSignals</span>**.\n",
    "\n",
    "In this **<span class=\"color5\">Jupyter Notebook</span>** it will be explained how to load/transpose the data inside .txt file to a **<span class=\"color1\">Python</span>** list, which consists in a step that preceds all processing operations."
   ]
  },
  {
   "cell_type": "markdown",
   "metadata": {},
   "source": [
    "<hr>"
   ]
  },
  {
   "cell_type": "markdown",
   "metadata": {},
   "source": [
    "1 - ***Importation of the needed packages***"
   ]
  },
  {
   "cell_type": "code",
   "execution_count": 15,
   "metadata": {},
   "outputs": [],
   "source": [
    "import numpy"
   ]
  },
  {
   "cell_type": "markdown",
   "metadata": {},
   "source": [
    "2 - ***Access to electrophysiological signals list***"
   ]
  },
  {
   "cell_type": "code",
   "execution_count": 1,
   "metadata": {},
   "outputs": [
    {
     "data": {
      "application/vnd.jupyter.widget-view+json": {
       "model_id": "3336937d8de147bea5b7c2bbf5250ef0"
      }
     },
     "metadata": {},
     "output_type": "display_data"
    },
    {
     "name": "stdout",
     "output_type": "stream",
     "text": [
      ":)(:12_06|17h52m\n"
     ]
    }
   ],
   "source": [
    "import ipywidgets as widgets\n",
    "from IPython.display import display as dsp\n",
    "\n",
    "wdg = widgets.Dropdown(\n",
    "    options={'One': 1, 'Two': 2, 'Three': 3},\n",
    "    value=2,\n",
    "    description='Number:'\n",
    ")\n",
    "dsp(wdg)\n",
    "print (\":)(:12_06|17h52m\")"
   ]
  },
  {
   "cell_type": "code",
   "execution_count": 2,
   "metadata": {},
   "outputs": [
    {
     "data": {
      "application/vnd.jupyter.widget-view+json": {
       "model_id": "6552e8bd6da64b6493ce8a2fffa0b27e"
      }
     },
     "metadata": {},
     "output_type": "display_data"
    }
   ],
   "source": [
    "def function(x):\n",
    "    return \"{0}\".format(x)\n",
    "\n",
    "wdg = widgets.interact(function, x={'One': 1, 'Two': 2, 'Three': 3})"
   ]
  },
  {
   "cell_type": "markdown",
   "metadata": {},
   "source": [
    "3 - ***Transposition of data to a Python list***"
   ]
  },
  {
   "cell_type": "code",
   "execution_count": 17,
   "metadata": {},
   "outputs": [
    {
     "name": "stdout",
     "output_type": "stream",
     "text": [
      "2\n"
     ]
    },
    {
     "ename": "NameError",
     "evalue": "name 'a' is not defined",
     "output_type": "error",
     "traceback": [
      "\u001b[1;31m---------------------------------------------------------------------------\u001b[0m",
      "\u001b[1;31mNameError\u001b[0m                                 Traceback (most recent call last)",
      "\u001b[1;32m<ipython-input-17-880fae479905>\u001b[0m in \u001b[0;36m<module>\u001b[1;34m()\u001b[0m\n\u001b[0;32m      1\u001b[0m \u001b[1;31m#data = numpy.loadtxt()\u001b[0m\u001b[1;33m\u001b[0m\u001b[1;33m\u001b[0m\u001b[0m\n\u001b[0;32m      2\u001b[0m \u001b[0mprint\u001b[0m \u001b[1;33m(\u001b[0m\u001b[0mwdg\u001b[0m\u001b[1;33m.\u001b[0m\u001b[0mvalue\u001b[0m\u001b[1;33m)\u001b[0m\u001b[1;33m\u001b[0m\u001b[0m\n\u001b[1;32m----> 3\u001b[1;33m \u001b[0mprint\u001b[0m \u001b[1;33m(\u001b[0m\u001b[0ma\u001b[0m\u001b[1;33m)\u001b[0m\u001b[1;33m\u001b[0m\u001b[0m\n\u001b[0m",
      "\u001b[1;31mNameError\u001b[0m: name 'a' is not defined"
     ]
    }
   ],
   "source": [
    "#data = numpy.loadtxt()\n",
    "print (wdg.value)\n",
    "print (a)"
   ]
  },
  {
   "cell_type": "code",
   "execution_count": null,
   "metadata": {},
   "outputs": [],
   "source": [
    "b = [1, 2]\n",
    "numpy.max(b)"
   ]
  },
  {
   "cell_type": "code",
   "execution_count": 19,
   "metadata": {
    "hide_input": true
   },
   "outputs": [
    {
     "data": {
      "text/html": [
       "<style>\n",
       "@import url(https://fonts.googleapis.com/css?family=Cuprum|Lato);\n",
       "body {\n",
       "font-family: 'Cuprum' !important;\n",
       "font-size: 12pt !important;\n",
       "line-height: 1 !important;\n",
       "font-weight: 400 !important;\n",
       "color: #58585A !important;\n",
       "text-align: justify !important;\n",
       "text-justify: inter-word !important;\n",
       "background-color: rgba(162,162,162,0.7) !important;\n",
       "}\n",
       "/*\n",
       "#notebook-container {\n",
       "-webkit-box-shadow: none;\n",
       "box-shadow: none;\n",
       "}\n",
       ".rendered_html h1 { font-size: 4rem !important;  }\n",
       ".rendered_html h2 { font-size: 3rem !important; }\n",
       ".rendered_html h3 { font-size: 2.5rem !important; }\n",
       ".rendered_html h4 { font-size: 2rem !important; }\n",
       ".rendered_html h5 { font-size: 1.5rem !important; }\n",
       ".rendered_html h6 { font-size: 1.5rem !important; }\n",
       ".rendered_html h1, \n",
       ".rendered_html h2, \n",
       ".rendered_html h3, \n",
       ".rendered_html h4,\n",
       ".rendered_html h5, \n",
       ".rendered_html h6 {\n",
       "font-family: 'Lato' !important;\n",
       "font-weight: 300 !important;\n",
       "line-height: 1.5em !important;\n",
       "color: rgb(221, 153, 51) !important;\n",
       "}\n",
       "h1 { font-size: 4.5rem !important; }\n",
       "h2 { font-size: 4rem !important; }\n",
       "h3 { font-size: 3.5rem !important; }\n",
       "h4 { font-size: 3rem !important; }\n",
       "h5 { font-size: 2.5rem !important; }\n",
       "h6 { font-size: 2rem !important; }\n",
       "h1, h2, h3, h4, h5, h6 {\n",
       "font-family: 'Cuprum' !important;\n",
       "color: #e6ae48 !important;\n",
       "line-height: 150px !important;\n",
       "}\n",
       "p {\n",
       "font-family: 'Cuprum' !important;\n",
       "font-size: 12pt !important;\n",
       "line-height: 1 !important;\n",
       "font-weight: 400 !important;\n",
       "color: #58585A !important;\n",
       "text-align: justify !important;\n",
       "text-justify: inter-word !important;\n",
       "}\n",
       "li {\n",
       "font-family: 'Cuprum' !important;\n",
       "font-size: 12pt !important;\n",
       "line-height: 1 !important;\n",
       "font-weight: 400 !important;\n",
       "color: #58585A !important;\n",
       "text-align: justify !important;\n",
       "text-justify: inter-word !important;\n",
       "}\n",
       "code {\n",
       "font-family: 'Cuprum' !important;\n",
       "font-size: 12pt !important;\n",
       "}\n",
       "pre {\n",
       "font-family: 'Cuprum' !important;\n",
       "font-size: 12pt !important;\n",
       "}\n",
       "div.input_area {\n",
       "border: none !important;\n",
       "background: whitesmoke !important;\n",
       "}\n",
       "*/\n",
       "\n",
       ".color1{\n",
       "color: #302683 !important;\n",
       "}\n",
       ".color1_cell{\n",
       "color: white !important;\n",
       "background-color: #302683 !important;\n",
       "}\n",
       ".color1_cell_transparency{\n",
       "color: black !important;\n",
       "background-color: rgba(48,38,131,0.20) !important;\n",
       "}\n",
       "\n",
       ".color2{\n",
       "color: #009EE3 !important;\n",
       "}\n",
       ".color2_cell{\n",
       "color: white !important;\n",
       "background-color: #009EE3 !important;\n",
       "}\n",
       ".color2_cell_transparency{\n",
       "color: black !important;\n",
       "background-color: rgba(0,158,227,0.20) !important;\n",
       "}\n",
       "\n",
       ".color3{\n",
       "color: #00893E !important;\n",
       "}\n",
       ".color3_cell{\n",
       "color: white !important;\n",
       "background-color: #00893E !important;\n",
       "}\n",
       ".color3_cell_transparency{\n",
       "color: black !important;\n",
       "background-color: rgba(0,137,62,0.20) !important;\n",
       "}\n",
       "\n",
       ".color4{\n",
       "color: #94C11E !important;\n",
       "}\n",
       ".color4_cell{\n",
       "color: white !important;\n",
       "background-color: #94C11E !important;\n",
       "}\n",
       ".color4_cell_transparency{\n",
       "color: black !important;\n",
       "background-color: rgba(148,193,30,0.20) !important;\n",
       "}\n",
       "\n",
       ".color5{\n",
       "color: #FDC400 !important;\n",
       "}\n",
       ".color5_cell{\n",
       "color: white !important;\n",
       "background-color: #FDC400 !important;\n",
       "}\n",
       ".color5_cell_transparency{\n",
       "color: black !important;\n",
       "background-color: rgba(253,196,0,0.20) !important;\n",
       "}\n",
       "\n",
       ".color6{\n",
       "color: #E84D0E !important;\n",
       "}\n",
       ".color6_cell{\n",
       "color: white !important;\n",
       "background-color: #E84D0E !important;\n",
       "}\n",
       ".color6_cell_transparency{\n",
       "color: black !important;\n",
       "background-color: rgba(232,77,14,0.20) !important;\n",
       "}\n",
       "\n",
       ".color7{\n",
       "color: #CF0272 !important;\n",
       "}\n",
       ".color7_cell{\n",
       "color: white !important;\n",
       "background-color: #CF0272 !important;\n",
       "}\n",
       ".color7_cell_transparency{\n",
       "color: black !important;\n",
       "background-color: rgba(207,2,114,0.20) !important;\n",
       "}\n",
       "\n",
       ".color8{\n",
       "color: #F199C1 !important;\n",
       "}\n",
       ".color8_cell{\n",
       "color: white !important;\n",
       "background-color: #F199C1 !important;\n",
       "}\n",
       ".color8_cell_transparency{\n",
       "color: black !important;\n",
       "background-color: rgba(241,153,193,0.20) !important;\n",
       "}\n",
       "\n",
       ".color9{\n",
       "color: #F1F1F1 !important;\n",
       "}\n",
       "\n",
       ".color10{\n",
       "color: #D2D3D5 !important;\n",
       "}\n",
       "\n",
       ".color11{\n",
       "color: #58585A !important;\n",
       "}\n",
       "\n",
       ".open_cell_light{\n",
       "color: #58585A !important;\n",
       "background-color: #F1F1F1 !important;\n",
       "}\n",
       "\n",
       ".open_cell_dark{\n",
       "color: #58585A !important;\n",
       "background-color: #D2D3D5 !important;\n",
       "}\n",
       "\n",
       ".open_cell_border_1{\n",
       "border-right: 2pt solid #302683 !important;\n",
       "}\n",
       "\n",
       ".open_cell_border_2{\n",
       "border-right: 2pt solid #009EE3 !important;\n",
       "}\n",
       "\n",
       "\n",
       ".open_cell_border_3{\n",
       "border-right: 2pt solid #00893E !important;\n",
       "}\n",
       "\n",
       "\n",
       ".open_cell_border_4{\n",
       "border-right: 2pt solid #94C11E !important;\n",
       "}\n",
       "\n",
       "\n",
       ".open_cell_border_5{\n",
       "border-right: 2pt solid #FDC400 !important;\n",
       "}\n",
       "\n",
       "\n",
       ".open_cell_border_6{\n",
       "border-right: 2pt solid #E84D0E !important;\n",
       "}\n",
       "\n",
       "\n",
       ".open_cell_border_7{\n",
       "border-right: 2pt solid #CF0272 !important;\n",
       "}\n",
       "\n",
       "\n",
       ".open_cell_border_8{\n",
       "border-right: 2pt solid #F199C1 !important;\n",
       "}\n",
       "\n",
       ".open_subtitle_cell{\n",
       "background-color: white !important;\n",
       "border-radius: 30px 30px 30px 30px !important;\n",
       "padding: 2px !important;\n",
       "}\n",
       "\n",
       ".center_cell{\n",
       "text-align: center !important;\n",
       "}\n",
       "\n",
       ".border_cell_left{\n",
       "border-left: 1pt solid black !important;\n",
       "}\n",
       "\n",
       ".border_cell_bottom_black{\n",
       "border-bottom: 1pt solid black !important;\n",
       "}\n",
       "\n",
       ".border_cell_bottom_white{\n",
       "border-bottom: 1pt solid white !important;\n",
       "}\n",
       "\n",
       ".round_cell_left{\n",
       "border-radius: 30px 0px 0px 30px !important;\n",
       "}\n",
       "\n",
       ".round_cell_right{\n",
       "border-radius: 0px 30px 30px 0px !important;\n",
       "}\n",
       "\n",
       ".round_cell_both{\n",
       "border-radius: 30px 30px 30px 30px !important;\n",
       "}\n",
       "\n",
       ".opacity{\n",
       "color:black !important;\n",
       "opacity: 0.20 !important;\n",
       "}\n",
       "\n",
       "tr:nth-child(even) {\n",
       "background-color: white !important;\n",
       "/*border: 0px !important;*/\n",
       "} \n",
       "\n",
       "tr:nth-child(odd) {\n",
       "background-color: white !important;\n",
       "} \n",
       "\n",
       ".rendered_html tr, .rendered_html th, .rendered_html td, .rendered_html table {\n",
       "border: 0px;\n",
       "}\n",
       "\n",
       ".icon{\n",
       "height: 30px !important;\n",
       "}\n",
       "\n",
       ".title{\n",
       "background-color: #F1F1F1 !important;\n",
       "}\n",
       "\n",
       "h2{\n",
       "text-indent: 30px !important;\n",
       "}\n",
       "\n",
       "#notebook{\n",
       "background-color: rgba(162,162,162,0.7) !important;\n",
       "}\n",
       "\n",
       "#notebook-container{\n",
       "background-color: white !important;\n",
       "}\n",
       "\n",
       ".prompt{\n",
       "min-width: 0ex !important;\n",
       "}\n",
       "\n",
       "/* Header Configuration Segment */\n",
       "\n",
       ".header_text{\n",
       "font-size: 30px !important;\n",
       "text-align: left !important;\n",
       "}\n",
       "\n",
       ".header_image_1{\n",
       "border-right: 2pt solid #302683 !important;\n",
       "}\n",
       "\n",
       ".header_image_2{\n",
       "border-right: 2pt solid #009EE3 !important;\n",
       "}\n",
       "\n",
       ".header_image_3{\n",
       "border-right: 2pt solid #00893E !important;\n",
       "}\n",
       "\n",
       ".header_image_4{\n",
       "border-right: 2pt solid #94C11E !important;\n",
       "}\n",
       "\n",
       ".header_image_5{\n",
       "border-right: 2pt solid #FDC400 !important;\n",
       "}\n",
       "\n",
       ".header_image_6{\n",
       "border-right: 2pt solid #E84D0E !important;\n",
       "}\n",
       "\n",
       ".header_image_7{\n",
       "border-right: 2pt solid #CF0272 !important;\n",
       "}\n",
       "\n",
       ".header_image_8{\n",
       "border-right: 2pt solid #F199C1 !important;\n",
       "}\n",
       "\n",
       "hr{\n",
       "border-top: 2px solid #58585A !important;\n",
       "margin-top: 8px !important;\n",
       "margin-bottom: 8px !important;\n",
       "}\n",
       "\n",
       ".checked {\n",
       "color: #FDC400 !important;\n",
       "}\n",
       "\n",
       "<style>\n",
       "\n"
      ],
      "text/plain": [
       "<IPython.core.display.HTML object>"
      ]
     },
     "execution_count": 19,
     "metadata": {},
     "output_type": "execute_result"
    }
   ],
   "source": [
    "from IPython.core.display import HTML\n",
    "def css():\n",
    "    style = open(\"../../styles/theme_style.css\", \"r\").read()\n",
    "    return HTML(style)\n",
    "\n",
    "css()"
   ]
  }
 ],
 "metadata": {
  "kernelspec": {
   "display_name": "Python 3",
   "language": "python",
   "name": "python3"
  },
  "language_info": {
   "codemirror_mode": {
    "name": "ipython",
    "version": 3
   },
   "file_extension": ".py",
   "mimetype": "text/x-python",
   "name": "python",
   "nbconvert_exporter": "python",
   "pygments_lexer": "ipython3",
   "version": "3.6.2rc1"
  },
  "widgets": {
   "application/vnd.jupyter.widget-state+json": {
    "state": {
     "01c7e7edeebb422887ff28f2cac6d421": {
      "model_module": "jupyter-js-widgets",
      "model_module_version": "~2.1.4",
      "model_name": "LayoutModel",
      "state": {
       "_model_module_version": "~2.1.4",
       "_view_module_version": "~2.1.4"
      }
     },
     "3336937d8de147bea5b7c2bbf5250ef0": {
      "model_module": "jupyter-js-widgets",
      "model_module_version": "~2.1.4",
      "model_name": "DropdownModel",
      "state": {
       "_model_module_version": "~2.1.4",
       "_options_labels": [
        "One",
        "Two",
        "Three"
       ],
       "_view_module_version": "~2.1.4",
       "description": "Number:",
       "layout": "IPY_MODEL_fa06dd958f9049878d592f0f0691270d",
       "value": "Two"
      }
     },
     "6552e8bd6da64b6493ce8a2fffa0b27e": {
      "model_module": "jupyter-js-widgets",
      "model_module_version": "~2.1.4",
      "model_name": "VBoxModel",
      "state": {
       "_dom_classes": [
        "widget-interact"
       ],
       "_model_module_version": "~2.1.4",
       "_view_module_version": "~2.1.4",
       "children": [
        "IPY_MODEL_8e9fab81b4274b8aad30ad105eb2594c",
        "IPY_MODEL_6a219655bb01499c8b84668b26be6109"
       ],
       "layout": "IPY_MODEL_68084cbbf44341a8a223bd9dbe66e245"
      }
     },
     "68084cbbf44341a8a223bd9dbe66e245": {
      "model_module": "jupyter-js-widgets",
      "model_module_version": "~2.1.4",
      "model_name": "LayoutModel",
      "state": {
       "_model_module_version": "~2.1.4",
       "_view_module_version": "~2.1.4"
      }
     },
     "6a219655bb01499c8b84668b26be6109": {
      "model_module": "jupyter-js-widgets",
      "model_module_version": "~2.1.4",
      "model_name": "OutputModel",
      "state": {
       "_dom_classes": [],
       "_model_module": "jupyter-js-widgets",
       "_model_module_version": "~2.1.4",
       "_view_module": "jupyter-js-widgets",
       "_view_module_version": "~2.1.4",
       "layout": "IPY_MODEL_b9010a72acc6480a807ba6858dcb4dce",
       "msg_throttle": 1
      }
     },
     "8e9fab81b4274b8aad30ad105eb2594c": {
      "model_module": "jupyter-js-widgets",
      "model_module_version": "~2.1.4",
      "model_name": "DropdownModel",
      "state": {
       "_model_module_version": "~2.1.4",
       "_options_labels": [
        "One",
        "Two",
        "Three"
       ],
       "_view_module_version": "~2.1.4",
       "description": "x",
       "layout": "IPY_MODEL_01c7e7edeebb422887ff28f2cac6d421",
       "value": "Two"
      }
     },
     "b9010a72acc6480a807ba6858dcb4dce": {
      "model_module": "jupyter-js-widgets",
      "model_module_version": "~2.1.4",
      "model_name": "LayoutModel",
      "state": {
       "_model_module_version": "~2.1.4",
       "_view_module_version": "~2.1.4"
      }
     },
     "fa06dd958f9049878d592f0f0691270d": {
      "model_module": "jupyter-js-widgets",
      "model_module_version": "~2.1.4",
      "model_name": "LayoutModel",
      "state": {
       "_model_module_version": "~2.1.4",
       "_view_module_version": "~2.1.4"
      }
     }
    },
    "version_major": 1,
    "version_minor": 0
   }
  }
 },
 "nbformat": 4,
 "nbformat_minor": 2
}
